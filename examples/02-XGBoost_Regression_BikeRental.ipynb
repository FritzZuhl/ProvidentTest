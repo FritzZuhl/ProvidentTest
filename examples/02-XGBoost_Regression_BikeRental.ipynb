{
 "cells": [
  {
   "cell_type": "markdown",
   "metadata": {},
   "source": [
    "## Train a model with bike rental data using XGBoost algorithm\n",
    "### Training log1p(count) dataset\n",
    "###  Model is trained with XGBoost installed in notebook instance\n",
    "###  In the later examples, we will train using SageMaker's XGBoost algorithm"
   ]
  },
  {
   "cell_type": "code",
   "execution_count": null,
   "metadata": {},
   "outputs": [],
   "source": [
    "# Install xgboost in notebook instance.\n",
    "#### Command to install xgboost\n",
    "# !pip install xgboost==0.90"
   ]
  },
  {
   "cell_type": "code",
   "execution_count": 1,
   "metadata": {},
   "outputs": [],
   "source": [
    "import sys\n",
    "import numpy as np\n",
    "import pandas as pd\n",
    "import matplotlib.pyplot as plt\n",
    "from sklearn.metrics import mean_squared_error, mean_absolute_error\n",
    "\n",
    "# XGBoost \n",
    "import xgboost as xgb\n",
    "\n",
    "import matplotlib.pyplot as plt\n",
    "\n",
    "from pandas.plotting import register_matplotlib_converters\n",
    "register_matplotlib_converters()"
   ]
  },
  {
   "cell_type": "code",
   "execution_count": 2,
   "outputs": [
    {
     "name": "stdout",
     "output_type": "stream",
     "text": [
      "1.3.3\n"
     ]
    }
   ],
   "source": [
    "print(xgb.__version__)"
   ],
   "metadata": {
    "collapsed": false,
    "pycharm": {
     "name": "#%%\n"
    }
   }
  },
  {
   "cell_type": "markdown",
   "metadata": {},
   "source": [
    "<h2>Kaggle Bike Sharing Demand Dataset</h2>\n",
    "\n",
    "Modified 'count' to log1p(count) for training\n",
    "\n",
    "Log can be used when target represents a count (that is non-negative values)\n",
    "\n",
    "Model now predicts as log1p(count). We need to convert it back to actual count using expm1(predicted_target)\n",
    "\n",
    "Reference:\n",
    "https://www.kaggle.com/apapiu/predicting-bike-sharing-with-xgboost by Alexandru Papiu\n",
    "\n",
    "To download dataset, sign-in and download from this link:\n",
    "https://www.kaggle.com/c/bike-sharing-demand/data <br>\n",
    "\n",
    "\n",
    "Input Features: ['season', 'holiday', 'workingday', 'weather', 'temp',\n",
    "       'atemp', 'humidity', 'windspeed', 'year', 'month', 'day', 'dayofweek','hour']<br>\n",
    "Target Feature: [<b>log1p('count')</b>]<br>\n",
    "Objective: <quote>You are provided hourly rental data spanning two years. For this competition, the training set is comprised of the first 19 days of each month, while the test set is the 20th to the end of the month. You must predict the total count of bikes rented during each hour covered by the test set, using only information available prior to the rental period (Ref: Kaggle.com)</quote>"
   ]
  },
  {
   "cell_type": "code",
   "execution_count": 3,
   "metadata": {},
   "outputs": [],
   "source": [
    "column_list_file = '../Data/bike_train_column_list.txt'\n",
    "train_file = '../Data/bike_train.csv'\n",
    "validation_file = '../Data/bike_validation.csv'\n",
    "test_file = '../Data/bike_test.csv'"
   ]
  },
  {
   "cell_type": "code",
   "execution_count": 4,
   "metadata": {},
   "outputs": [],
   "source": [
    "columns = ''\n",
    "with open(column_list_file,'r') as f:\n",
    "    columns = f.read().split(',')"
   ]
  },
  {
   "cell_type": "code",
   "execution_count": 5,
   "metadata": {},
   "outputs": [
    {
     "data": {
      "text/plain": "['count',\n 'season',\n 'holiday',\n 'workingday',\n 'weather',\n 'temp',\n 'atemp',\n 'humidity',\n 'windspeed',\n 'year',\n 'month',\n 'day',\n 'dayofweek',\n 'hour']"
     },
     "execution_count": 5,
     "metadata": {},
     "output_type": "execute_result"
    }
   ],
   "source": [
    "columns"
   ]
  },
  {
   "cell_type": "code",
   "execution_count": 6,
   "metadata": {},
   "outputs": [],
   "source": [
    "# Specify the column names as the file does not have column header\n",
    "df_train = pd.read_csv(train_file,names=columns)\n",
    "df_validation = pd.read_csv(validation_file,names=columns)"
   ]
  },
  {
   "cell_type": "code",
   "execution_count": 7,
   "metadata": {},
   "outputs": [
    {
     "data": {
      "text/plain": "      count  season  holiday  workingday  weather   temp   atemp  humidity  \\\n0  4.477337       3        0           0        2  26.24  30.305        73   \n1  5.517453       3        0           1        1  32.80  34.850        33   \n2  5.814131       4        0           0        1  15.58  19.695        40   \n3  6.436150       3        0           1        1  32.80  37.880        55   \n4  4.262680       2        0           1        1  13.94  17.425        76   \n\n   windspeed  year  month  day  dayofweek  hour  \n0     7.0015  2011      9    3          5     0  \n1     7.0015  2012      8   13          0    14  \n2    11.0014  2011     11    5          5    17  \n3    12.9980  2012      8    9          3    19  \n4     7.0015  2011      4   14          3     6  ",
      "text/html": "<div>\n<style scoped>\n    .dataframe tbody tr th:only-of-type {\n        vertical-align: middle;\n    }\n\n    .dataframe tbody tr th {\n        vertical-align: top;\n    }\n\n    .dataframe thead th {\n        text-align: right;\n    }\n</style>\n<table border=\"1\" class=\"dataframe\">\n  <thead>\n    <tr style=\"text-align: right;\">\n      <th></th>\n      <th>count</th>\n      <th>season</th>\n      <th>holiday</th>\n      <th>workingday</th>\n      <th>weather</th>\n      <th>temp</th>\n      <th>atemp</th>\n      <th>humidity</th>\n      <th>windspeed</th>\n      <th>year</th>\n      <th>month</th>\n      <th>day</th>\n      <th>dayofweek</th>\n      <th>hour</th>\n    </tr>\n  </thead>\n  <tbody>\n    <tr>\n      <th>0</th>\n      <td>4.477337</td>\n      <td>3</td>\n      <td>0</td>\n      <td>0</td>\n      <td>2</td>\n      <td>26.24</td>\n      <td>30.305</td>\n      <td>73</td>\n      <td>7.0015</td>\n      <td>2011</td>\n      <td>9</td>\n      <td>3</td>\n      <td>5</td>\n      <td>0</td>\n    </tr>\n    <tr>\n      <th>1</th>\n      <td>5.517453</td>\n      <td>3</td>\n      <td>0</td>\n      <td>1</td>\n      <td>1</td>\n      <td>32.80</td>\n      <td>34.850</td>\n      <td>33</td>\n      <td>7.0015</td>\n      <td>2012</td>\n      <td>8</td>\n      <td>13</td>\n      <td>0</td>\n      <td>14</td>\n    </tr>\n    <tr>\n      <th>2</th>\n      <td>5.814131</td>\n      <td>4</td>\n      <td>0</td>\n      <td>0</td>\n      <td>1</td>\n      <td>15.58</td>\n      <td>19.695</td>\n      <td>40</td>\n      <td>11.0014</td>\n      <td>2011</td>\n      <td>11</td>\n      <td>5</td>\n      <td>5</td>\n      <td>17</td>\n    </tr>\n    <tr>\n      <th>3</th>\n      <td>6.436150</td>\n      <td>3</td>\n      <td>0</td>\n      <td>1</td>\n      <td>1</td>\n      <td>32.80</td>\n      <td>37.880</td>\n      <td>55</td>\n      <td>12.9980</td>\n      <td>2012</td>\n      <td>8</td>\n      <td>9</td>\n      <td>3</td>\n      <td>19</td>\n    </tr>\n    <tr>\n      <th>4</th>\n      <td>4.262680</td>\n      <td>2</td>\n      <td>0</td>\n      <td>1</td>\n      <td>1</td>\n      <td>13.94</td>\n      <td>17.425</td>\n      <td>76</td>\n      <td>7.0015</td>\n      <td>2011</td>\n      <td>4</td>\n      <td>14</td>\n      <td>3</td>\n      <td>6</td>\n    </tr>\n  </tbody>\n</table>\n</div>"
     },
     "execution_count": 7,
     "metadata": {},
     "output_type": "execute_result"
    }
   ],
   "source": [
    "df_train.head()"
   ]
  },
  {
   "cell_type": "code",
   "execution_count": 8,
   "metadata": {},
   "outputs": [
    {
     "data": {
      "text/plain": "      count  season  holiday  workingday  weather   temp   atemp  humidity  \\\n0  6.095825       3        0           1        2  28.70  33.335        79   \n1  5.961005       2        0           0        1  32.80  37.880        55   \n2  1.098612       1        0           1        1  14.76  16.665        40   \n3  3.891820       1        0           1        1   9.02   9.090        47   \n4  4.025352       4        0           0        1  10.66  15.150        87   \n\n   windspeed  year  month  day  dayofweek  hour  \n0    12.9980  2011      7    7          3     8  \n1    12.9980  2011      6   11          5    13  \n2    19.9995  2011      2   14          0     2  \n3    36.9974  2011      2    8          1    10  \n4     0.0000  2011     12    4          6     8  ",
      "text/html": "<div>\n<style scoped>\n    .dataframe tbody tr th:only-of-type {\n        vertical-align: middle;\n    }\n\n    .dataframe tbody tr th {\n        vertical-align: top;\n    }\n\n    .dataframe thead th {\n        text-align: right;\n    }\n</style>\n<table border=\"1\" class=\"dataframe\">\n  <thead>\n    <tr style=\"text-align: right;\">\n      <th></th>\n      <th>count</th>\n      <th>season</th>\n      <th>holiday</th>\n      <th>workingday</th>\n      <th>weather</th>\n      <th>temp</th>\n      <th>atemp</th>\n      <th>humidity</th>\n      <th>windspeed</th>\n      <th>year</th>\n      <th>month</th>\n      <th>day</th>\n      <th>dayofweek</th>\n      <th>hour</th>\n    </tr>\n  </thead>\n  <tbody>\n    <tr>\n      <th>0</th>\n      <td>6.095825</td>\n      <td>3</td>\n      <td>0</td>\n      <td>1</td>\n      <td>2</td>\n      <td>28.70</td>\n      <td>33.335</td>\n      <td>79</td>\n      <td>12.9980</td>\n      <td>2011</td>\n      <td>7</td>\n      <td>7</td>\n      <td>3</td>\n      <td>8</td>\n    </tr>\n    <tr>\n      <th>1</th>\n      <td>5.961005</td>\n      <td>2</td>\n      <td>0</td>\n      <td>0</td>\n      <td>1</td>\n      <td>32.80</td>\n      <td>37.880</td>\n      <td>55</td>\n      <td>12.9980</td>\n      <td>2011</td>\n      <td>6</td>\n      <td>11</td>\n      <td>5</td>\n      <td>13</td>\n    </tr>\n    <tr>\n      <th>2</th>\n      <td>1.098612</td>\n      <td>1</td>\n      <td>0</td>\n      <td>1</td>\n      <td>1</td>\n      <td>14.76</td>\n      <td>16.665</td>\n      <td>40</td>\n      <td>19.9995</td>\n      <td>2011</td>\n      <td>2</td>\n      <td>14</td>\n      <td>0</td>\n      <td>2</td>\n    </tr>\n    <tr>\n      <th>3</th>\n      <td>3.891820</td>\n      <td>1</td>\n      <td>0</td>\n      <td>1</td>\n      <td>1</td>\n      <td>9.02</td>\n      <td>9.090</td>\n      <td>47</td>\n      <td>36.9974</td>\n      <td>2011</td>\n      <td>2</td>\n      <td>8</td>\n      <td>1</td>\n      <td>10</td>\n    </tr>\n    <tr>\n      <th>4</th>\n      <td>4.025352</td>\n      <td>4</td>\n      <td>0</td>\n      <td>0</td>\n      <td>1</td>\n      <td>10.66</td>\n      <td>15.150</td>\n      <td>87</td>\n      <td>0.0000</td>\n      <td>2011</td>\n      <td>12</td>\n      <td>4</td>\n      <td>6</td>\n      <td>8</td>\n    </tr>\n  </tbody>\n</table>\n</div>"
     },
     "execution_count": 8,
     "metadata": {},
     "output_type": "execute_result"
    }
   ],
   "source": [
    "df_validation.head()"
   ]
  },
  {
   "cell_type": "code",
   "execution_count": 9,
   "metadata": {},
   "outputs": [],
   "source": [
    "X_train = df_train.iloc[:,1:] # Features: 1st column onwards \n",
    "y_train = df_train.iloc[:,0].ravel() # Target: 0th column\n",
    "\n",
    "X_validation = df_validation.iloc[:,1:]\n",
    "y_validation = df_validation.iloc[:,0].ravel()"
   ]
  },
  {
   "cell_type": "code",
   "execution_count": 10,
   "metadata": {},
   "outputs": [],
   "source": [
    "# XGBoost Training Parameter Reference: \n",
    "#   https://github.com/dmlc/xgboost/blob/master/doc/parameter.md\n",
    "#regressor = xgb.XGBRegressor(max_depth=5,eta=0.1,subsample=0.7,num_round=150)\n",
    "regressor = xgb.XGBRegressor(max_depth=5,n_estimators=150)"
   ]
  },
  {
   "cell_type": "code",
   "execution_count": 11,
   "metadata": {},
   "outputs": [
    {
     "data": {
      "text/plain": "XGBRegressor(base_score=None, booster=None, colsample_bylevel=None,\n             colsample_bynode=None, colsample_bytree=None, gamma=None,\n             gpu_id=None, importance_type='gain', interaction_constraints=None,\n             learning_rate=None, max_delta_step=None, max_depth=5,\n             min_child_weight=None, missing=nan, monotone_constraints=None,\n             n_estimators=150, n_jobs=None, num_parallel_tree=None,\n             random_state=None, reg_alpha=None, reg_lambda=None,\n             scale_pos_weight=None, subsample=None, tree_method=None,\n             validate_parameters=None, verbosity=None)"
     },
     "execution_count": 11,
     "metadata": {},
     "output_type": "execute_result"
    }
   ],
   "source": [
    "regressor"
   ]
  },
  {
   "cell_type": "code",
   "execution_count": 12,
   "metadata": {},
   "outputs": [
    {
     "name": "stdout",
     "output_type": "stream",
     "text": [
      "[0]\tvalidation_0-rmse:3.06460\tvalidation_1-rmse:3.07128\n",
      "[1]\tvalidation_0-rmse:2.18561\tvalidation_1-rmse:2.18977\n",
      "[2]\tvalidation_0-rmse:1.57973\tvalidation_1-rmse:1.58729\n",
      "[3]\tvalidation_0-rmse:1.15916\tvalidation_1-rmse:1.16584\n",
      "[4]\tvalidation_0-rmse:0.86291\tvalidation_1-rmse:0.87348\n",
      "[5]\tvalidation_0-rmse:0.67593\tvalidation_1-rmse:0.68940\n",
      "[6]\tvalidation_0-rmse:0.55710\tvalidation_1-rmse:0.57295\n",
      "[7]\tvalidation_0-rmse:0.47210\tvalidation_1-rmse:0.49133\n",
      "[8]\tvalidation_0-rmse:0.41153\tvalidation_1-rmse:0.43610\n",
      "[9]\tvalidation_0-rmse:0.37590\tvalidation_1-rmse:0.40111\n",
      "[10]\tvalidation_0-rmse:0.34717\tvalidation_1-rmse:0.37443\n",
      "[11]\tvalidation_0-rmse:0.33554\tvalidation_1-rmse:0.36382\n",
      "[12]\tvalidation_0-rmse:0.32311\tvalidation_1-rmse:0.35253\n",
      "[13]\tvalidation_0-rmse:0.31561\tvalidation_1-rmse:0.34656\n",
      "[14]\tvalidation_0-rmse:0.31065\tvalidation_1-rmse:0.34307\n",
      "[15]\tvalidation_0-rmse:0.30379\tvalidation_1-rmse:0.33729\n",
      "[16]\tvalidation_0-rmse:0.30120\tvalidation_1-rmse:0.33574\n",
      "[17]\tvalidation_0-rmse:0.29738\tvalidation_1-rmse:0.33265\n",
      "[18]\tvalidation_0-rmse:0.29363\tvalidation_1-rmse:0.33012\n",
      "[19]\tvalidation_0-rmse:0.28230\tvalidation_1-rmse:0.31960\n",
      "[20]\tvalidation_0-rmse:0.28065\tvalidation_1-rmse:0.31865\n",
      "[21]\tvalidation_0-rmse:0.27929\tvalidation_1-rmse:0.31837\n",
      "[22]\tvalidation_0-rmse:0.27543\tvalidation_1-rmse:0.31538\n",
      "[23]\tvalidation_0-rmse:0.27240\tvalidation_1-rmse:0.31359\n",
      "[24]\tvalidation_0-rmse:0.27125\tvalidation_1-rmse:0.31330\n",
      "[25]\tvalidation_0-rmse:0.26807\tvalidation_1-rmse:0.31087\n",
      "[26]\tvalidation_0-rmse:0.26695\tvalidation_1-rmse:0.31061\n",
      "[27]\tvalidation_0-rmse:0.26557\tvalidation_1-rmse:0.30983\n",
      "[28]\tvalidation_0-rmse:0.26483\tvalidation_1-rmse:0.30959\n",
      "[29]\tvalidation_0-rmse:0.26218\tvalidation_1-rmse:0.30775\n",
      "[30]\tvalidation_0-rmse:0.26009\tvalidation_1-rmse:0.30638\n",
      "[31]\tvalidation_0-rmse:0.25702\tvalidation_1-rmse:0.30447\n",
      "[32]\tvalidation_0-rmse:0.25219\tvalidation_1-rmse:0.30066\n",
      "[33]\tvalidation_0-rmse:0.25082\tvalidation_1-rmse:0.30016\n",
      "[34]\tvalidation_0-rmse:0.25006\tvalidation_1-rmse:0.30001\n",
      "[35]\tvalidation_0-rmse:0.24881\tvalidation_1-rmse:0.29997\n",
      "[36]\tvalidation_0-rmse:0.24700\tvalidation_1-rmse:0.29957\n",
      "[37]\tvalidation_0-rmse:0.24604\tvalidation_1-rmse:0.29944\n",
      "[38]\tvalidation_0-rmse:0.24537\tvalidation_1-rmse:0.29931\n",
      "[39]\tvalidation_0-rmse:0.24505\tvalidation_1-rmse:0.29909\n",
      "[40]\tvalidation_0-rmse:0.24388\tvalidation_1-rmse:0.29895\n",
      "[41]\tvalidation_0-rmse:0.24261\tvalidation_1-rmse:0.29857\n",
      "[42]\tvalidation_0-rmse:0.24127\tvalidation_1-rmse:0.29878\n",
      "[43]\tvalidation_0-rmse:0.23997\tvalidation_1-rmse:0.29840\n",
      "[44]\tvalidation_0-rmse:0.23906\tvalidation_1-rmse:0.29831\n",
      "[45]\tvalidation_0-rmse:0.23720\tvalidation_1-rmse:0.29806\n",
      "[46]\tvalidation_0-rmse:0.23589\tvalidation_1-rmse:0.29711\n",
      "[47]\tvalidation_0-rmse:0.23477\tvalidation_1-rmse:0.29711\n",
      "[48]\tvalidation_0-rmse:0.23410\tvalidation_1-rmse:0.29720\n",
      "[49]\tvalidation_0-rmse:0.23378\tvalidation_1-rmse:0.29726\n",
      "[50]\tvalidation_0-rmse:0.23307\tvalidation_1-rmse:0.29713\n",
      "[51]\tvalidation_0-rmse:0.23290\tvalidation_1-rmse:0.29719\n",
      "[52]\tvalidation_0-rmse:0.23237\tvalidation_1-rmse:0.29728\n",
      "[53]\tvalidation_0-rmse:0.23174\tvalidation_1-rmse:0.29746\n",
      "[54]\tvalidation_0-rmse:0.23019\tvalidation_1-rmse:0.29655\n",
      "[55]\tvalidation_0-rmse:0.22935\tvalidation_1-rmse:0.29630\n",
      "[56]\tvalidation_0-rmse:0.22672\tvalidation_1-rmse:0.29506\n",
      "[57]\tvalidation_0-rmse:0.22604\tvalidation_1-rmse:0.29503\n",
      "[58]\tvalidation_0-rmse:0.22533\tvalidation_1-rmse:0.29528\n",
      "[59]\tvalidation_0-rmse:0.22463\tvalidation_1-rmse:0.29480\n",
      "[60]\tvalidation_0-rmse:0.22409\tvalidation_1-rmse:0.29477\n",
      "[61]\tvalidation_0-rmse:0.22325\tvalidation_1-rmse:0.29470\n",
      "[62]\tvalidation_0-rmse:0.22239\tvalidation_1-rmse:0.29470\n",
      "[63]\tvalidation_0-rmse:0.22142\tvalidation_1-rmse:0.29461\n",
      "[64]\tvalidation_0-rmse:0.22079\tvalidation_1-rmse:0.29465\n",
      "[65]\tvalidation_0-rmse:0.21931\tvalidation_1-rmse:0.29375\n",
      "[66]\tvalidation_0-rmse:0.21840\tvalidation_1-rmse:0.29406\n",
      "[67]\tvalidation_0-rmse:0.21726\tvalidation_1-rmse:0.29411\n",
      "[68]\tvalidation_0-rmse:0.21638\tvalidation_1-rmse:0.29398\n",
      "[69]\tvalidation_0-rmse:0.21593\tvalidation_1-rmse:0.29391\n",
      "[70]\tvalidation_0-rmse:0.21451\tvalidation_1-rmse:0.29330\n",
      "[71]\tvalidation_0-rmse:0.21333\tvalidation_1-rmse:0.29310\n",
      "[72]\tvalidation_0-rmse:0.21286\tvalidation_1-rmse:0.29275\n",
      "[73]\tvalidation_0-rmse:0.21211\tvalidation_1-rmse:0.29260\n",
      "[74]\tvalidation_0-rmse:0.21102\tvalidation_1-rmse:0.29255\n",
      "[75]\tvalidation_0-rmse:0.20990\tvalidation_1-rmse:0.29237\n",
      "[76]\tvalidation_0-rmse:0.20916\tvalidation_1-rmse:0.29246\n",
      "[77]\tvalidation_0-rmse:0.20814\tvalidation_1-rmse:0.29266\n",
      "[78]\tvalidation_0-rmse:0.20762\tvalidation_1-rmse:0.29285\n",
      "[79]\tvalidation_0-rmse:0.20734\tvalidation_1-rmse:0.29269\n",
      "[80]\tvalidation_0-rmse:0.20727\tvalidation_1-rmse:0.29276\n",
      "[81]\tvalidation_0-rmse:0.20645\tvalidation_1-rmse:0.29244\n",
      "[82]\tvalidation_0-rmse:0.20502\tvalidation_1-rmse:0.29156\n",
      "[83]\tvalidation_0-rmse:0.20409\tvalidation_1-rmse:0.29175\n",
      "[84]\tvalidation_0-rmse:0.20323\tvalidation_1-rmse:0.29154\n",
      "[85]\tvalidation_0-rmse:0.20222\tvalidation_1-rmse:0.29140\n",
      "[86]\tvalidation_0-rmse:0.20212\tvalidation_1-rmse:0.29135\n",
      "[87]\tvalidation_0-rmse:0.20202\tvalidation_1-rmse:0.29123\n",
      "[88]\tvalidation_0-rmse:0.20184\tvalidation_1-rmse:0.29115\n",
      "[89]\tvalidation_0-rmse:0.20122\tvalidation_1-rmse:0.29113\n",
      "[90]\tvalidation_0-rmse:0.20085\tvalidation_1-rmse:0.29122\n",
      "[91]\tvalidation_0-rmse:0.20008\tvalidation_1-rmse:0.29090\n",
      "[92]\tvalidation_0-rmse:0.19988\tvalidation_1-rmse:0.29101\n",
      "[93]\tvalidation_0-rmse:0.19970\tvalidation_1-rmse:0.29111\n",
      "[94]\tvalidation_0-rmse:0.19913\tvalidation_1-rmse:0.29120\n",
      "[95]\tvalidation_0-rmse:0.19850\tvalidation_1-rmse:0.29104\n",
      "[96]\tvalidation_0-rmse:0.19787\tvalidation_1-rmse:0.29102\n",
      "[97]\tvalidation_0-rmse:0.19706\tvalidation_1-rmse:0.29103\n",
      "[98]\tvalidation_0-rmse:0.19631\tvalidation_1-rmse:0.29085\n",
      "[99]\tvalidation_0-rmse:0.19620\tvalidation_1-rmse:0.29079\n",
      "[100]\tvalidation_0-rmse:0.19551\tvalidation_1-rmse:0.29071\n",
      "[101]\tvalidation_0-rmse:0.19493\tvalidation_1-rmse:0.29062\n",
      "[102]\tvalidation_0-rmse:0.19440\tvalidation_1-rmse:0.29044\n",
      "[103]\tvalidation_0-rmse:0.19425\tvalidation_1-rmse:0.29045\n",
      "[104]\tvalidation_0-rmse:0.19393\tvalidation_1-rmse:0.29034\n",
      "[105]\tvalidation_0-rmse:0.19326\tvalidation_1-rmse:0.29036\n",
      "[106]\tvalidation_0-rmse:0.19307\tvalidation_1-rmse:0.29041\n",
      "[107]\tvalidation_0-rmse:0.19251\tvalidation_1-rmse:0.29032\n",
      "[108]\tvalidation_0-rmse:0.19186\tvalidation_1-rmse:0.29065\n",
      "[109]\tvalidation_0-rmse:0.19124\tvalidation_1-rmse:0.29053\n",
      "[110]\tvalidation_0-rmse:0.19090\tvalidation_1-rmse:0.29065\n",
      "[111]\tvalidation_0-rmse:0.19012\tvalidation_1-rmse:0.29036\n",
      "[112]\tvalidation_0-rmse:0.18899\tvalidation_1-rmse:0.28999\n",
      "[113]\tvalidation_0-rmse:0.18818\tvalidation_1-rmse:0.28995\n",
      "[114]\tvalidation_0-rmse:0.18750\tvalidation_1-rmse:0.28975\n",
      "[115]\tvalidation_0-rmse:0.18727\tvalidation_1-rmse:0.28975\n",
      "[116]\tvalidation_0-rmse:0.18677\tvalidation_1-rmse:0.28989\n",
      "[117]\tvalidation_0-rmse:0.18673\tvalidation_1-rmse:0.28990\n",
      "[118]\tvalidation_0-rmse:0.18605\tvalidation_1-rmse:0.28986\n",
      "[119]\tvalidation_0-rmse:0.18557\tvalidation_1-rmse:0.28999\n",
      "[120]\tvalidation_0-rmse:0.18498\tvalidation_1-rmse:0.28981\n",
      "[121]\tvalidation_0-rmse:0.18473\tvalidation_1-rmse:0.28989\n",
      "[122]\tvalidation_0-rmse:0.18469\tvalidation_1-rmse:0.28996\n",
      "[123]\tvalidation_0-rmse:0.18452\tvalidation_1-rmse:0.28997\n",
      "[124]\tvalidation_0-rmse:0.18382\tvalidation_1-rmse:0.28962\n",
      "[125]\tvalidation_0-rmse:0.18352\tvalidation_1-rmse:0.28963\n",
      "[126]\tvalidation_0-rmse:0.18330\tvalidation_1-rmse:0.28963\n",
      "[127]\tvalidation_0-rmse:0.18261\tvalidation_1-rmse:0.28935\n",
      "[128]\tvalidation_0-rmse:0.18253\tvalidation_1-rmse:0.28935\n",
      "[129]\tvalidation_0-rmse:0.18190\tvalidation_1-rmse:0.28933\n",
      "[130]\tvalidation_0-rmse:0.18108\tvalidation_1-rmse:0.28946\n",
      "[131]\tvalidation_0-rmse:0.18010\tvalidation_1-rmse:0.28909\n",
      "[132]\tvalidation_0-rmse:0.17941\tvalidation_1-rmse:0.28896\n",
      "[133]\tvalidation_0-rmse:0.17879\tvalidation_1-rmse:0.28896\n",
      "[134]\tvalidation_0-rmse:0.17859\tvalidation_1-rmse:0.28877\n",
      "[135]\tvalidation_0-rmse:0.17844\tvalidation_1-rmse:0.28871\n",
      "[136]\tvalidation_0-rmse:0.17802\tvalidation_1-rmse:0.28904\n",
      "[137]\tvalidation_0-rmse:0.17735\tvalidation_1-rmse:0.28903\n",
      "[138]\tvalidation_0-rmse:0.17673\tvalidation_1-rmse:0.28922\n",
      "[139]\tvalidation_0-rmse:0.17636\tvalidation_1-rmse:0.28915\n",
      "[140]\tvalidation_0-rmse:0.17586\tvalidation_1-rmse:0.28900\n",
      "[141]\tvalidation_0-rmse:0.17580\tvalidation_1-rmse:0.28905\n",
      "[142]\tvalidation_0-rmse:0.17521\tvalidation_1-rmse:0.28906\n",
      "[143]\tvalidation_0-rmse:0.17483\tvalidation_1-rmse:0.28913\n",
      "[144]\tvalidation_0-rmse:0.17444\tvalidation_1-rmse:0.28919\n",
      "[145]\tvalidation_0-rmse:0.17414\tvalidation_1-rmse:0.28917\n",
      "[146]\tvalidation_0-rmse:0.17365\tvalidation_1-rmse:0.28909\n",
      "[147]\tvalidation_0-rmse:0.17327\tvalidation_1-rmse:0.28922\n",
      "[148]\tvalidation_0-rmse:0.17273\tvalidation_1-rmse:0.28917\n",
      "[149]\tvalidation_0-rmse:0.17217\tvalidation_1-rmse:0.28913\n"
     ]
    },
    {
     "data": {
      "text/plain": "XGBRegressor(base_score=0.5, booster='gbtree', colsample_bylevel=1,\n             colsample_bynode=1, colsample_bytree=1, gamma=0, gpu_id=-1,\n             importance_type='gain', interaction_constraints='',\n             learning_rate=0.300000012, max_delta_step=0, max_depth=5,\n             min_child_weight=1, missing=nan, monotone_constraints='()',\n             n_estimators=150, n_jobs=12, num_parallel_tree=1, random_state=0,\n             reg_alpha=0, reg_lambda=1, scale_pos_weight=1, subsample=1,\n             tree_method='exact', validate_parameters=1, verbosity=None)"
     },
     "execution_count": 12,
     "metadata": {},
     "output_type": "execute_result"
    }
   ],
   "source": [
    "regressor.fit(X_train,y_train, eval_set = [(X_train, y_train), (X_validation, y_validation)])"
   ]
  },
  {
   "cell_type": "code",
   "execution_count": null,
   "metadata": {},
   "outputs": [],
   "source": [
    "df_train['count'].describe()"
   ]
  },
  {
   "cell_type": "code",
   "execution_count": null,
   "metadata": {},
   "outputs": [],
   "source": [
    "eval_result = regressor.evals_result()"
   ]
  },
  {
   "cell_type": "code",
   "execution_count": null,
   "metadata": {},
   "outputs": [],
   "source": [
    "training_rounds = range(len(eval_result['validation_0']['rmse']))"
   ]
  },
  {
   "cell_type": "code",
   "execution_count": null,
   "metadata": {},
   "outputs": [],
   "source": [
    "plt.scatter(x=training_rounds,y=eval_result['validation_0']['rmse'],label='Training Error')\n",
    "plt.scatter(x=training_rounds,y=eval_result['validation_1']['rmse'],label='Validation Error')\n",
    "plt.grid(True)\n",
    "plt.xlabel('Iteration')\n",
    "plt.ylabel('RMSE')\n",
    "plt.title('Training Vs Validation Error')\n",
    "plt.legend()\n",
    "plt.show()"
   ]
  },
  {
   "cell_type": "code",
   "execution_count": null,
   "metadata": {},
   "outputs": [],
   "source": [
    "xgb.plot_importance(regressor)\n",
    "plt.show()"
   ]
  },
  {
   "cell_type": "code",
   "execution_count": null,
   "metadata": {},
   "outputs": [],
   "source": [
    "# Updated - Changed to validation dataset\n",
    "# Compare actual vs predicted performance with dataset not seen by the model before\n",
    "df = pd.read_csv(validation_file,names=columns)"
   ]
  },
  {
   "cell_type": "code",
   "execution_count": null,
   "metadata": {},
   "outputs": [],
   "source": [
    "df.head()"
   ]
  },
  {
   "cell_type": "code",
   "execution_count": null,
   "metadata": {},
   "outputs": [],
   "source": [
    "X_test = df.iloc[:,1:]\n",
    "print(X_test[:5])"
   ]
  },
  {
   "cell_type": "code",
   "execution_count": null,
   "metadata": {},
   "outputs": [],
   "source": [
    "result = regressor.predict(X_test)"
   ]
  },
  {
   "cell_type": "code",
   "execution_count": null,
   "metadata": {},
   "outputs": [],
   "source": [
    "result[:5]"
   ]
  },
  {
   "cell_type": "code",
   "execution_count": null,
   "metadata": {},
   "outputs": [],
   "source": [
    "df.head()"
   ]
  },
  {
   "cell_type": "code",
   "execution_count": null,
   "metadata": {},
   "outputs": [],
   "source": [
    "df['count_predicted'] = result"
   ]
  },
  {
   "cell_type": "code",
   "execution_count": null,
   "metadata": {},
   "outputs": [],
   "source": [
    "df.head()"
   ]
  },
  {
   "cell_type": "code",
   "execution_count": null,
   "metadata": {},
   "outputs": [],
   "source": [
    "# Negative Values are predicted\n",
    "df['count_predicted'].describe()"
   ]
  },
  {
   "cell_type": "code",
   "execution_count": null,
   "metadata": {},
   "outputs": [],
   "source": [
    "df[df['count_predicted'] < 0]"
   ]
  },
  {
   "cell_type": "code",
   "execution_count": null,
   "metadata": {},
   "outputs": [],
   "source": [
    "def adjust_count(x):\n",
    "    if x < 0:\n",
    "        return 0\n",
    "    else:\n",
    "        return x"
   ]
  },
  {
   "cell_type": "code",
   "execution_count": null,
   "metadata": {},
   "outputs": [],
   "source": [
    "df['count_predicted'] = df['count_predicted'].map(adjust_count)"
   ]
  },
  {
   "cell_type": "code",
   "execution_count": null,
   "metadata": {},
   "outputs": [],
   "source": [
    "df[df['count_predicted'] < 0]"
   ]
  },
  {
   "cell_type": "code",
   "execution_count": null,
   "metadata": {},
   "outputs": [],
   "source": [
    "df['count'] = df['count'].map(np.expm1)\n",
    "df['count_predicted'] = df['count_predicted'].map(np.expm1)"
   ]
  },
  {
   "cell_type": "code",
   "execution_count": null,
   "metadata": {},
   "outputs": [],
   "source": [
    "# Actual Vs Predicted\n",
    "plt.plot(df['count'], label='Actual')\n",
    "plt.plot(df['count_predicted'],label='Predicted')\n",
    "plt.xlabel('Sample')\n",
    "plt.ylabel('Count')\n",
    "plt.xlim([100,150])\n",
    "plt.title('Validation Dataset - Predicted Vs. Actual')\n",
    "plt.legend()\n",
    "plt.show()"
   ]
  },
  {
   "cell_type": "code",
   "execution_count": null,
   "metadata": {},
   "outputs": [],
   "source": [
    "# Over prediction and Under Prediction needs to be balanced\n",
    "# Training Data Residuals\n",
    "residuals = (df['count'] - df['count_predicted'])\n",
    "\n",
    "plt.hist(residuals)\n",
    "plt.grid(True)\n",
    "plt.xlabel('Actual - Predicted')\n",
    "plt.ylabel('Count')\n",
    "plt.title('Residuals Distribution')\n",
    "plt.axvline(color='r')\n",
    "plt.show()"
   ]
  },
  {
   "cell_type": "code",
   "execution_count": null,
   "metadata": {},
   "outputs": [],
   "source": [
    "value_counts = (residuals > 0).value_counts(sort=False)\n",
    "print(' Under Estimation: {0:.2f}'.format(value_counts[True]/len(residuals)))\n",
    "print(' Over  Estimation: {0:.2f}'.format(value_counts[False]/len(residuals)))"
   ]
  },
  {
   "cell_type": "code",
   "execution_count": null,
   "metadata": {},
   "outputs": [],
   "source": [
    "import sklearn.metrics as metrics\n",
    "print(\"RMSE: {0:.2f}\".format(metrics.mean_squared_error(df['count'],\n",
    "                                                    df['count_predicted'])**.5))"
   ]
  },
  {
   "cell_type": "code",
   "execution_count": null,
   "metadata": {},
   "outputs": [],
   "source": [
    "# Metric Use By Kaggle\n",
    "def compute_rmsle(y_true, y_pred):\n",
    "    if type(y_true) != np.ndarray:\n",
    "        y_true = np.array(y_true)\n",
    "        \n",
    "    if type(y_pred) != np.ndarray:\n",
    "        y_pred = np.array(y_pred)\n",
    "     \n",
    "    return(np.average((np.log1p(y_pred) - np.log1p(y_true))**2)**.5)"
   ]
  },
  {
   "cell_type": "code",
   "execution_count": null,
   "metadata": {},
   "outputs": [],
   "source": [
    "print(\"RMSLE: {0:.2f}\".format(compute_rmsle(df['count'],df['count_predicted'])))"
   ]
  },
  {
   "cell_type": "code",
   "execution_count": null,
   "metadata": {},
   "outputs": [],
   "source": [
    "# Prepare Data for Submission to Kaggle\n",
    "df_test = pd.read_csv(test_file,parse_dates=['datetime'])"
   ]
  },
  {
   "cell_type": "code",
   "execution_count": null,
   "metadata": {},
   "outputs": [],
   "source": [
    "df_test.head()"
   ]
  },
  {
   "cell_type": "code",
   "execution_count": null,
   "metadata": {},
   "outputs": [],
   "source": [
    "X_test =  df_test.iloc[:,1:] # Exclude datetime for prediction"
   ]
  },
  {
   "cell_type": "code",
   "execution_count": null,
   "metadata": {},
   "outputs": [],
   "source": [
    "X_test.head()"
   ]
  },
  {
   "cell_type": "code",
   "execution_count": null,
   "metadata": {},
   "outputs": [],
   "source": [
    "result = regressor.predict(X_test)"
   ]
  },
  {
   "cell_type": "code",
   "execution_count": null,
   "metadata": {},
   "outputs": [],
   "source": [
    "result[:5]"
   ]
  },
  {
   "cell_type": "code",
   "execution_count": null,
   "metadata": {},
   "outputs": [],
   "source": [
    "np.expm1(result)"
   ]
  },
  {
   "cell_type": "code",
   "execution_count": null,
   "metadata": {},
   "outputs": [],
   "source": [
    "# Convert result to actual count\n",
    "df_test[\"count\"] = np.expm1(result)"
   ]
  },
  {
   "cell_type": "code",
   "execution_count": null,
   "metadata": {},
   "outputs": [],
   "source": [
    "df_test.head()"
   ]
  },
  {
   "cell_type": "code",
   "execution_count": null,
   "metadata": {},
   "outputs": [],
   "source": [
    "df_test[df_test[\"count\"] < 0]"
   ]
  },
  {
   "cell_type": "code",
   "execution_count": null,
   "metadata": {},
   "outputs": [],
   "source": [
    "df_test[['datetime','count']].to_csv('../Data/predicted_count.csv',index=False)"
   ]
  },
  {
   "cell_type": "code",
   "execution_count": null,
   "metadata": {},
   "outputs": [],
   "source": []
  }
 ],
 "metadata": {
  "kernelspec": {
   "display_name": "Python 3",
   "language": "python",
   "name": "python3"
  },
  "language_info": {
   "codemirror_mode": {
    "name": "ipython",
    "version": 3
   },
   "file_extension": ".py",
   "mimetype": "text/x-python",
   "name": "python",
   "nbconvert_exporter": "python",
   "pygments_lexer": "ipython3",
   "version": "3.7.6"
  }
 },
 "nbformat": 4,
 "nbformat_minor": 2
}