{
 "cells": [
  {
   "cell_type": "markdown",
   "metadata": {},
   "source": [
    "# Part 1 - Exploratory Data Analysis"
   ]
  },
  {
   "cell_type": "code",
   "execution_count": 1,
   "metadata": {},
   "outputs": [],
   "source": [
    "# Importing required libraries.\n",
    "import pandas as pd\n",
    "import numpy as np\n",
    "import seaborn as sns #visualisation\n",
    "import matplotlib.pyplot as plt #visualisation\n",
    "from matplotlib.pyplot import figure\n",
    "%matplotlib inline\n",
    "sns.set(color_codes=True)"
   ]
  },
  {
   "cell_type": "markdown",
   "metadata": {
    "pycharm": {
     "name": "#%% md\n"
    }
   },
   "source": [
    "### Read in the data\n",
    "#### Cursory Review of data as a whole"
   ]
  },
  {
   "cell_type": "code",
   "execution_count": 2,
   "outputs": [],
   "source": [
    "data = pd.read_csv(\"mrm5_model_data.csv\")"
   ],
   "metadata": {
    "collapsed": false,
    "pycharm": {
     "name": "#%%\n"
    }
   }
  },
  {
   "cell_type": "code",
   "execution_count": 3,
   "metadata": {
    "pycharm": {
     "name": "#%%\n"
    }
   },
   "outputs": [
    {
     "name": "stdout",
     "output_type": "stream",
     "text": [
      "<bound method DataFrame.info of          account_id  status  cos  rim_age  loan  s_plus_c  fico_b  ck_returns  \\\n",
      "0      FjWHEBLtghQ7  Closed    1        4     0         0     761         NaN   \n",
      "1      NY9sb3zWSC7L  Closed    1       41     0         1     766         NaN   \n",
      "2      CsgsApaKRyUc  Closed    1       42     0         1     636         NaN   \n",
      "3      xtDoVry22KCc  Closed    1       42     0         1     507         NaN   \n",
      "4      AY1ULa7dimU5  Closed    1       41     0         1     471         NaN   \n",
      "...             ...     ...  ...      ...   ...       ...     ...         ...   \n",
      "56671  klCLOY2EycCd  Active    0        0     0         1       0         NaN   \n",
      "56672  Gj3ta4BAqFC6  Active    0        0     1         0       0         NaN   \n",
      "56673  TyrkQdxcDaJU  Active    0        0     0         0       0         NaN   \n",
      "56674  u5SzVvhz1S3U  Active    0        0     0         1       0         NaN   \n",
      "56675  HbCPuxsnV1de  Active    0        0     0         1       0         NaN   \n",
      "\n",
      "       max_days_neg  num_times_neg  ntriggers  avg_bal6  avg_bal3  \n",
      "0                 0              0          0       NaN       NaN  \n",
      "1                 0              0          0       NaN       NaN  \n",
      "2                 1              1          2       NaN       NaN  \n",
      "3                74             12          7       NaN       NaN  \n",
      "4                 1              3          2       NaN       NaN  \n",
      "...             ...            ...        ...       ...       ...  \n",
      "56671             0              0          0       NaN       NaN  \n",
      "56672             0              0          0       NaN       NaN  \n",
      "56673             0              0          0       NaN       NaN  \n",
      "56674             0              0          0       NaN       NaN  \n",
      "56675             0              0          0       NaN       NaN  \n",
      "\n",
      "[56676 rows x 13 columns]>\n"
     ]
    }
   ],
   "source": [
    "print(data.info)"
   ]
  },
  {
   "cell_type": "code",
   "execution_count": 4,
   "metadata": {
    "pycharm": {
     "name": "#%%\n"
    }
   },
   "outputs": [
    {
     "data": {
      "text/plain": "                cos       rim_age          loan      s_plus_c        fico_b  \\\ncount  56676.000000  56676.000000  56676.000000  56676.000000  56676.000000   \nmean       0.009104     21.966088      0.288941      0.666526    519.410932   \nstd        0.094982     12.395577      0.453274      0.471459    330.750199   \nmin        0.000000      0.000000      0.000000      0.000000      0.000000   \n25%        0.000000     11.000000      0.000000      0.000000      0.000000   \n50%        0.000000     22.000000      0.000000      1.000000    694.000000   \n75%        0.000000     33.000000      1.000000      1.000000    771.000000   \nmax        1.000000     42.000000      1.000000      1.000000    844.000000   \n\n       ck_returns  max_days_neg  num_times_neg     ntriggers      avg_bal6  \\\ncount  835.000000  56676.000000   56676.000000  56676.000000  5.122600e+04   \nmean     1.450299      1.530454       0.772285      0.431947  1.474701e+04   \nstd      1.142533      8.795420       4.069600      1.502197  5.145974e+04   \nmin      1.000000      0.000000       0.000000      0.000000 -4.674000e+03   \n25%      1.000000      0.000000       0.000000      0.000000  5.300000e+01   \n50%      1.000000      0.000000       0.000000      0.000000  1.036000e+03   \n75%      1.000000      0.000000       0.000000      0.000000  8.356500e+03   \nmax     11.000000    376.000000     132.000000     21.000000  1.708350e+06   \n\n           avg_bal3  \ncount  5.039600e+04  \nmean   1.606729e+04  \nstd    5.677016e+04  \nmin   -6.230000e+03  \n25%    4.900000e+01  \n50%    1.107000e+03  \n75%    9.405000e+03  \nmax    1.748436e+06  ",
      "text/html": "<div>\n<style scoped>\n    .dataframe tbody tr th:only-of-type {\n        vertical-align: middle;\n    }\n\n    .dataframe tbody tr th {\n        vertical-align: top;\n    }\n\n    .dataframe thead th {\n        text-align: right;\n    }\n</style>\n<table border=\"1\" class=\"dataframe\">\n  <thead>\n    <tr style=\"text-align: right;\">\n      <th></th>\n      <th>cos</th>\n      <th>rim_age</th>\n      <th>loan</th>\n      <th>s_plus_c</th>\n      <th>fico_b</th>\n      <th>ck_returns</th>\n      <th>max_days_neg</th>\n      <th>num_times_neg</th>\n      <th>ntriggers</th>\n      <th>avg_bal6</th>\n      <th>avg_bal3</th>\n    </tr>\n  </thead>\n  <tbody>\n    <tr>\n      <th>count</th>\n      <td>56676.000000</td>\n      <td>56676.000000</td>\n      <td>56676.000000</td>\n      <td>56676.000000</td>\n      <td>56676.000000</td>\n      <td>835.000000</td>\n      <td>56676.000000</td>\n      <td>56676.000000</td>\n      <td>56676.000000</td>\n      <td>5.122600e+04</td>\n      <td>5.039600e+04</td>\n    </tr>\n    <tr>\n      <th>mean</th>\n      <td>0.009104</td>\n      <td>21.966088</td>\n      <td>0.288941</td>\n      <td>0.666526</td>\n      <td>519.410932</td>\n      <td>1.450299</td>\n      <td>1.530454</td>\n      <td>0.772285</td>\n      <td>0.431947</td>\n      <td>1.474701e+04</td>\n      <td>1.606729e+04</td>\n    </tr>\n    <tr>\n      <th>std</th>\n      <td>0.094982</td>\n      <td>12.395577</td>\n      <td>0.453274</td>\n      <td>0.471459</td>\n      <td>330.750199</td>\n      <td>1.142533</td>\n      <td>8.795420</td>\n      <td>4.069600</td>\n      <td>1.502197</td>\n      <td>5.145974e+04</td>\n      <td>5.677016e+04</td>\n    </tr>\n    <tr>\n      <th>min</th>\n      <td>0.000000</td>\n      <td>0.000000</td>\n      <td>0.000000</td>\n      <td>0.000000</td>\n      <td>0.000000</td>\n      <td>1.000000</td>\n      <td>0.000000</td>\n      <td>0.000000</td>\n      <td>0.000000</td>\n      <td>-4.674000e+03</td>\n      <td>-6.230000e+03</td>\n    </tr>\n    <tr>\n      <th>25%</th>\n      <td>0.000000</td>\n      <td>11.000000</td>\n      <td>0.000000</td>\n      <td>0.000000</td>\n      <td>0.000000</td>\n      <td>1.000000</td>\n      <td>0.000000</td>\n      <td>0.000000</td>\n      <td>0.000000</td>\n      <td>5.300000e+01</td>\n      <td>4.900000e+01</td>\n    </tr>\n    <tr>\n      <th>50%</th>\n      <td>0.000000</td>\n      <td>22.000000</td>\n      <td>0.000000</td>\n      <td>1.000000</td>\n      <td>694.000000</td>\n      <td>1.000000</td>\n      <td>0.000000</td>\n      <td>0.000000</td>\n      <td>0.000000</td>\n      <td>1.036000e+03</td>\n      <td>1.107000e+03</td>\n    </tr>\n    <tr>\n      <th>75%</th>\n      <td>0.000000</td>\n      <td>33.000000</td>\n      <td>1.000000</td>\n      <td>1.000000</td>\n      <td>771.000000</td>\n      <td>1.000000</td>\n      <td>0.000000</td>\n      <td>0.000000</td>\n      <td>0.000000</td>\n      <td>8.356500e+03</td>\n      <td>9.405000e+03</td>\n    </tr>\n    <tr>\n      <th>max</th>\n      <td>1.000000</td>\n      <td>42.000000</td>\n      <td>1.000000</td>\n      <td>1.000000</td>\n      <td>844.000000</td>\n      <td>11.000000</td>\n      <td>376.000000</td>\n      <td>132.000000</td>\n      <td>21.000000</td>\n      <td>1.708350e+06</td>\n      <td>1.748436e+06</td>\n    </tr>\n  </tbody>\n</table>\n</div>"
     },
     "execution_count": 4,
     "metadata": {},
     "output_type": "execute_result"
    }
   ],
   "source": [
    "data.describe()"
   ]
  },
  {
   "cell_type": "code",
   "execution_count": 5,
   "metadata": {
    "pycharm": {
     "name": "#%%\n"
    }
   },
   "outputs": [
    {
     "data": {
      "text/plain": "['account_id',\n 'status',\n 'cos',\n 'rim_age',\n 'loan',\n 's_plus_c',\n 'fico_b',\n 'ck_returns',\n 'max_days_neg',\n 'num_times_neg',\n 'ntriggers',\n 'avg_bal6',\n 'avg_bal3']"
     },
     "execution_count": 5,
     "metadata": {},
     "output_type": "execute_result"
    }
   ],
   "source": [
    "# What are the fields in the data\n",
    "data.columns.tolist()"
   ]
  },
  {
   "cell_type": "code",
   "execution_count": 6,
   "metadata": {
    "pycharm": {
     "name": "#%%\n"
    }
   },
   "outputs": [
    {
     "data": {
      "text/plain": "     account_id  status  cos  rim_age  loan  s_plus_c  fico_b  ck_returns  \\\n0  FjWHEBLtghQ7  Closed    1        4     0         0     761         NaN   \n1  NY9sb3zWSC7L  Closed    1       41     0         1     766         NaN   \n2  CsgsApaKRyUc  Closed    1       42     0         1     636         NaN   \n3  xtDoVry22KCc  Closed    1       42     0         1     507         NaN   \n4  AY1ULa7dimU5  Closed    1       41     0         1     471         NaN   \n\n   max_days_neg  num_times_neg  ntriggers  avg_bal6  avg_bal3  \n0             0              0          0       NaN       NaN  \n1             0              0          0       NaN       NaN  \n2             1              1          2       NaN       NaN  \n3            74             12          7       NaN       NaN  \n4             1              3          2       NaN       NaN  ",
      "text/html": "<div>\n<style scoped>\n    .dataframe tbody tr th:only-of-type {\n        vertical-align: middle;\n    }\n\n    .dataframe tbody tr th {\n        vertical-align: top;\n    }\n\n    .dataframe thead th {\n        text-align: right;\n    }\n</style>\n<table border=\"1\" class=\"dataframe\">\n  <thead>\n    <tr style=\"text-align: right;\">\n      <th></th>\n      <th>account_id</th>\n      <th>status</th>\n      <th>cos</th>\n      <th>rim_age</th>\n      <th>loan</th>\n      <th>s_plus_c</th>\n      <th>fico_b</th>\n      <th>ck_returns</th>\n      <th>max_days_neg</th>\n      <th>num_times_neg</th>\n      <th>ntriggers</th>\n      <th>avg_bal6</th>\n      <th>avg_bal3</th>\n    </tr>\n  </thead>\n  <tbody>\n    <tr>\n      <th>0</th>\n      <td>FjWHEBLtghQ7</td>\n      <td>Closed</td>\n      <td>1</td>\n      <td>4</td>\n      <td>0</td>\n      <td>0</td>\n      <td>761</td>\n      <td>NaN</td>\n      <td>0</td>\n      <td>0</td>\n      <td>0</td>\n      <td>NaN</td>\n      <td>NaN</td>\n    </tr>\n    <tr>\n      <th>1</th>\n      <td>NY9sb3zWSC7L</td>\n      <td>Closed</td>\n      <td>1</td>\n      <td>41</td>\n      <td>0</td>\n      <td>1</td>\n      <td>766</td>\n      <td>NaN</td>\n      <td>0</td>\n      <td>0</td>\n      <td>0</td>\n      <td>NaN</td>\n      <td>NaN</td>\n    </tr>\n    <tr>\n      <th>2</th>\n      <td>CsgsApaKRyUc</td>\n      <td>Closed</td>\n      <td>1</td>\n      <td>42</td>\n      <td>0</td>\n      <td>1</td>\n      <td>636</td>\n      <td>NaN</td>\n      <td>1</td>\n      <td>1</td>\n      <td>2</td>\n      <td>NaN</td>\n      <td>NaN</td>\n    </tr>\n    <tr>\n      <th>3</th>\n      <td>xtDoVry22KCc</td>\n      <td>Closed</td>\n      <td>1</td>\n      <td>42</td>\n      <td>0</td>\n      <td>1</td>\n      <td>507</td>\n      <td>NaN</td>\n      <td>74</td>\n      <td>12</td>\n      <td>7</td>\n      <td>NaN</td>\n      <td>NaN</td>\n    </tr>\n    <tr>\n      <th>4</th>\n      <td>AY1ULa7dimU5</td>\n      <td>Closed</td>\n      <td>1</td>\n      <td>41</td>\n      <td>0</td>\n      <td>1</td>\n      <td>471</td>\n      <td>NaN</td>\n      <td>1</td>\n      <td>3</td>\n      <td>2</td>\n      <td>NaN</td>\n      <td>NaN</td>\n    </tr>\n  </tbody>\n</table>\n</div>"
     },
     "execution_count": 6,
     "metadata": {},
     "output_type": "execute_result"
    }
   ],
   "source": [
    "data.head()"
   ]
  },
  {
   "cell_type": "code",
   "execution_count": 7,
   "metadata": {
    "pycharm": {
     "name": "#%%\n"
    }
   },
   "outputs": [
    {
     "data": {
      "text/plain": "         account_id  status  cos  rim_age  loan  s_plus_c  fico_b  ck_returns  \\\n56671  klCLOY2EycCd  Active    0        0     0         1       0         NaN   \n56672  Gj3ta4BAqFC6  Active    0        0     1         0       0         NaN   \n56673  TyrkQdxcDaJU  Active    0        0     0         0       0         NaN   \n56674  u5SzVvhz1S3U  Active    0        0     0         1       0         NaN   \n56675  HbCPuxsnV1de  Active    0        0     0         1       0         NaN   \n\n       max_days_neg  num_times_neg  ntriggers  avg_bal6  avg_bal3  \n56671             0              0          0       NaN       NaN  \n56672             0              0          0       NaN       NaN  \n56673             0              0          0       NaN       NaN  \n56674             0              0          0       NaN       NaN  \n56675             0              0          0       NaN       NaN  ",
      "text/html": "<div>\n<style scoped>\n    .dataframe tbody tr th:only-of-type {\n        vertical-align: middle;\n    }\n\n    .dataframe tbody tr th {\n        vertical-align: top;\n    }\n\n    .dataframe thead th {\n        text-align: right;\n    }\n</style>\n<table border=\"1\" class=\"dataframe\">\n  <thead>\n    <tr style=\"text-align: right;\">\n      <th></th>\n      <th>account_id</th>\n      <th>status</th>\n      <th>cos</th>\n      <th>rim_age</th>\n      <th>loan</th>\n      <th>s_plus_c</th>\n      <th>fico_b</th>\n      <th>ck_returns</th>\n      <th>max_days_neg</th>\n      <th>num_times_neg</th>\n      <th>ntriggers</th>\n      <th>avg_bal6</th>\n      <th>avg_bal3</th>\n    </tr>\n  </thead>\n  <tbody>\n    <tr>\n      <th>56671</th>\n      <td>klCLOY2EycCd</td>\n      <td>Active</td>\n      <td>0</td>\n      <td>0</td>\n      <td>0</td>\n      <td>1</td>\n      <td>0</td>\n      <td>NaN</td>\n      <td>0</td>\n      <td>0</td>\n      <td>0</td>\n      <td>NaN</td>\n      <td>NaN</td>\n    </tr>\n    <tr>\n      <th>56672</th>\n      <td>Gj3ta4BAqFC6</td>\n      <td>Active</td>\n      <td>0</td>\n      <td>0</td>\n      <td>1</td>\n      <td>0</td>\n      <td>0</td>\n      <td>NaN</td>\n      <td>0</td>\n      <td>0</td>\n      <td>0</td>\n      <td>NaN</td>\n      <td>NaN</td>\n    </tr>\n    <tr>\n      <th>56673</th>\n      <td>TyrkQdxcDaJU</td>\n      <td>Active</td>\n      <td>0</td>\n      <td>0</td>\n      <td>0</td>\n      <td>0</td>\n      <td>0</td>\n      <td>NaN</td>\n      <td>0</td>\n      <td>0</td>\n      <td>0</td>\n      <td>NaN</td>\n      <td>NaN</td>\n    </tr>\n    <tr>\n      <th>56674</th>\n      <td>u5SzVvhz1S3U</td>\n      <td>Active</td>\n      <td>0</td>\n      <td>0</td>\n      <td>0</td>\n      <td>1</td>\n      <td>0</td>\n      <td>NaN</td>\n      <td>0</td>\n      <td>0</td>\n      <td>0</td>\n      <td>NaN</td>\n      <td>NaN</td>\n    </tr>\n    <tr>\n      <th>56675</th>\n      <td>HbCPuxsnV1de</td>\n      <td>Active</td>\n      <td>0</td>\n      <td>0</td>\n      <td>0</td>\n      <td>1</td>\n      <td>0</td>\n      <td>NaN</td>\n      <td>0</td>\n      <td>0</td>\n      <td>0</td>\n      <td>NaN</td>\n      <td>NaN</td>\n    </tr>\n  </tbody>\n</table>\n</div>"
     },
     "execution_count": 7,
     "metadata": {},
     "output_type": "execute_result"
    }
   ],
   "source": [
    "data.tail()"
   ]
  },
  {
   "cell_type": "markdown",
   "metadata": {
    "pycharm": {
     "name": "#%% md\n"
    }
   },
   "source": [
    "***\n",
    "***\n",
    "## Section A3 Looking at the Variables Individually - Exploratory Data Analysis"
   ]
  },
  {
   "cell_type": "markdown",
   "source": [
    "## Categorical Variables:\n",
    "+ cos\n",
    "+ account_id\n",
    "+ status\n",
    "+ loan\n",
    "+ s_plus_c\n",
    "+ ntriggers\n",
    "+ num_times_neg\n",
    "***"
   ],
   "metadata": {
    "collapsed": false
   }
  },
  {
   "cell_type": "code",
   "execution_count": 8,
   "metadata": {
    "pycharm": {
     "name": "#%%\n"
    }
   },
   "outputs": [],
   "source": [
    "# Helper Functions\n",
    "import matplotlib.pyplot as plt\n",
    "\n",
    "def plot_catVar(var_name):\n",
    "    valueCounts = data[var_name].value_counts()\n",
    "    ind = list(valueCounts.index)\n",
    "    val = list(valueCounts.values)\n",
    "    fig = plt.figure(figsize=(30, 10))\n",
    "    plt.bar(ind, val, color='blue', width=0.4)\n",
    "    plt.ylabel(\"Counts\")\n",
    "    plt.xlabel(var_name.upper())\n",
    "    plt.title(\"Counts of {} values\".format(var_name.upper()))\n",
    "    plt.show()\n",
    "    \n",
    "\n",
    "def check_catVar(var_name):\n",
    "    unique_values = data[var_name].unique()\n",
    "    valueCounts = data[var_name].value_counts()\n",
    "    print(\"*** For the field {} ***\".format(var_name))\n",
    "    print(\"\\nUnique values:\\n\", unique_values)\n",
    "    print(\"\\nThe value counts are:\")\n",
    "    print(valueCounts)\n",
    "    print(\"\\nCount of NULL {} values:\".format(var_name), data[var_name].isnull().sum())\n",
    "    print(\"Count of NA {} values:\".format(var_name), data[var_name].isna().sum())\n",
    "    print(\"Plot out Values\")\n",
    "    plot_catVar(var_name)\n",
    "\n",
    "def check_contVar(var_name):\n",
    "    print(\"\\nCount of NULL {} values:\".format(var_name), data[var_name].isnull().sum())\n",
    "    print(\"Count of NA {} values:\".format(var_name), data[var_name].isna().sum())\n",
    "    print(\"Max value of {}:\".format(var_name), data[var_name].max())\n",
    "    print(\"Min value of {}:\".format(var_name), data[var_name].min())\n",
    "    print(\"Type of value\", type(data[var_name].values))\n",
    "    print(\"Random sample of values:\\n\", data[var_name].sample(n=10))\n"
   ]
  },
  {
   "cell_type": "markdown",
   "metadata": {
    "pycharm": {
     "name": "#%% md\n"
    }
   },
   "source": [
    "***\n",
    "***\n",
    "## <span style=\"color:red\">TARGET: COS </span>\n",
    "### Account Charge-Off Indicator\n",
    "### Dependent or Target Variable\n",
    "***"
   ]
  },
  {
   "cell_type": "code",
   "execution_count": null,
   "metadata": {
    "pycharm": {
     "name": "#%%\n"
    }
   },
   "outputs": [],
   "source": [
    "check_catVar('cos')\n",
    "print(\"Portion of data with positive targets: \", cnts[1]/(cnts[0]+cnts[1]))"
   ]
  },
  {
   "cell_type": "markdown",
   "source": [
    "***\n",
    "***\n",
    "## <span style=\"color:red\">INDEX: ACCOUNT_ID </span>\n",
    "***"
   ],
   "metadata": {
    "collapsed": false,
    "pycharm": {
     "name": "#%% md\n"
    }
   }
  },
  {
   "cell_type": "code",
   "execution_count": null,
   "metadata": {
    "pycharm": {
     "name": "#%%\n"
    }
   },
   "outputs": [],
   "source": [
    "# Independent Field: account_id\n",
    "# is account_id unique and complete?\n",
    "dups = data['account_id'].duplicated()\n",
    "print(\"Number of duplicate account_id: \", dups.sum())\n",
    "# Finding NULL values\n",
    "print(\"Number of missing account_id:\", data[\"account_id\"].isnull().sum())"
   ]
  },
  {
   "cell_type": "markdown",
   "source": [
    "* **\n",
    "***\n",
    "## <span style=\"color:red\">1: STATUS </span>\n",
    "### Last status of account.\n",
    "***"
   ],
   "metadata": {
    "collapsed": false,
    "pycharm": {
     "name": "#%% md\n"
    }
   }
  },
  {
   "cell_type": "code",
   "execution_count": null,
   "outputs": [],
   "source": [
    "check_catVar('status')"
   ],
   "metadata": {
    "collapsed": false,
    "pycharm": {
     "name": "#%%\n"
    }
   }
  },
  {
   "cell_type": "code",
   "execution_count": null,
   "outputs": [],
   "source": [
    "# How does 'status' correlates with 'cos'?"
   ],
   "metadata": {
    "collapsed": false,
    "pycharm": {
     "name": "#%%\n"
    }
   }
  },
  {
   "cell_type": "code",
   "execution_count": null,
   "outputs": [],
   "source": [
    "pd.crosstab(data['cos'],data['status'])\n"
   ],
   "metadata": {
    "collapsed": false,
    "pycharm": {
     "name": "#%%\n"
    }
   }
  },
  {
   "cell_type": "markdown",
   "source": [
    "Discussion on STATUS field:\n",
    "All cos positive accounts are closed. Not all closed account are positive 'cos'.\n",
    "516/7235 = 0.071, or %7.1 are closed and cos positive."
   ],
   "metadata": {
    "collapsed": false,
    "pycharm": {
     "name": "#%% md\n"
    }
   }
  },
  {
   "cell_type": "markdown",
   "source": [
    "* **\n",
    "***\n",
    "## <span style=\"color:red\">2: LOAN</span>\n",
    "### Does account have any loan product associated with it?\n",
    "***"
   ],
   "metadata": {
    "collapsed": false,
    "pycharm": {
     "name": "#%% md\n"
    }
   }
  },
  {
   "cell_type": "code",
   "execution_count": 10,
   "metadata": {
    "pycharm": {
     "name": "#%%\n"
    }
   },
   "outputs": [
    {
     "name": "stdout",
     "output_type": "stream",
     "text": [
      "*** For the field loan ***\n",
      "\n",
      "Unique values:\n",
      " [0 1]\n",
      "\n",
      "The value counts are:\n",
      "0    40300\n",
      "1    16376\n",
      "Name: loan, dtype: int64\n",
      "\n",
      "Count of NULL loan values: 0\n",
      "Count of NA loan values: 0\n",
      "Plot out Values\n"
     ]
    },
    {
     "data": {
      "text/plain": "<Figure size 2160x720 with 1 Axes>",
      "image/png": "[encoded data removed]"
     },
     "metadata": {},
     "output_type": "display_data"
    }
   ],
   "source": [
    "check_catVar('loan')"
   ]
  },
  {
   "cell_type": "code",
   "execution_count": 11,
   "outputs": [
    {
     "name": "stdout",
     "output_type": "stream",
     "text": [
      "loan      0      1\n",
      "cos               \n",
      "0     39802  16358\n",
      "1       498     18\n"
     ]
    }
   ],
   "source": [
    "ct_cos_loan = pd.crosstab(data['cos'],data['loan'])\n",
    "print(ct_cos_loan)"
   ],
   "metadata": {
    "collapsed": false,
    "pycharm": {
     "name": "#%%\n"
    }
   }
  },
  {
   "cell_type": "markdown",
   "source": [
    "***\n",
    "### Calculations done on excel spreadsheet (not shown here)\n",
    "#### P(cos yes | loan=1)\t    0.00110\n",
    "#### P(cos yes | loan=0)\t    0.01236 (no loan associated with account)\n",
    "We see here that an account that does not have a loan, has a much larger chance of resulting into a charge off account.\n"
   ],
   "metadata": {
    "collapsed": false,
    "pycharm": {
     "name": "#%% md\n"
    }
   }
  },
  {
   "cell_type": "markdown",
   "source": [
    "* **\n",
    "***\n",
    "## <span style=\"color:red\">3: S_PLUS_C</span>\n",
    "### Is account just savings, or savings and checking?\n",
    "***"
   ],
   "metadata": {
    "collapsed": false,
    "pycharm": {
     "name": "#%% md\n"
    }
   }
  },
  {
   "cell_type": "code",
   "execution_count": null,
   "metadata": {
    "pycharm": {
     "name": "#%%\n"
    }
   },
   "outputs": [],
   "source": [
    "check_catVar('s_plus_c')"
   ]
  },
  {
   "cell_type": "code",
   "execution_count": null,
   "outputs": [],
   "source": [
    "# Cross Tab with target field.\n",
    "pd.crosstab(data['cos'],data['s_plus_c'])"
   ],
   "metadata": {
    "collapsed": false,
    "pycharm": {
     "name": "#%%\n"
    }
   }
  },
  {
   "cell_type": "markdown",
   "source": [
    "***\n",
    "### Calculations outside of this notebook (not shown here)\n",
    "#### Prob(cos yes  |  s_plus_c = 1)\t=  0.011356717\n",
    "#### Prob(cos yes  |  s_plus_c = 0)\t=  0.004603175\n",
    "If an account has a checking account, it is much more likely to result in charge off than saving alone."
   ],
   "metadata": {
    "collapsed": false,
    "pycharm": {
     "name": "#%% md\n"
    }
   }
  },
  {
   "cell_type": "markdown",
   "source": [
    "* **\n",
    "***\n",
    "## <span style=\"color:red\">4: NTRIGGERS</span>\n",
    "### Number of alerts from other financial institutions.\n",
    "***"
   ],
   "metadata": {
    "collapsed": false,
    "pycharm": {
     "name": "#%% md\n"
    }
   }
  },
  {
   "cell_type": "code",
   "execution_count": null,
   "metadata": {
    "pycharm": {
     "name": "#%%\n"
    }
   },
   "outputs": [],
   "source": [
    "check_catVar('ntriggers')"
   ]
  },
  {
   "cell_type": "code",
   "execution_count": null,
   "outputs": [],
   "source": [
    "# Cross Tab with Target Varaible\n",
    "ct_cos_ntriggers = pd.crosstab(data['cos'],data['ntriggers'])\n",
    "print(ct_cos_ntriggers)"
   ],
   "metadata": {
    "collapsed": false,
    "pycharm": {
     "name": "#%%\n"
    }
   }
  },
  {
   "cell_type": "code",
   "execution_count": null,
   "outputs": [],
   "source": [
    "ct_cos_ntriggers.plot.bar(figsize=(30, 10))"
   ],
   "metadata": {
    "collapsed": false,
    "pycharm": {
     "name": "#%%\n"
    }
   }
  },
  {
   "cell_type": "markdown",
   "source": [
    "***\n",
    "Transform data by binning it into ntriggers<2 (bin 0) and ntriggers >= 2 (bin 1). This allows a better fitting model. This binning will prevent overfitting."
   ],
   "metadata": {
    "collapsed": false,
    "pycharm": {
     "name": "#%% md\n"
    }
   }
  },
  {
   "cell_type": "markdown",
   "source": [
    "* **\n",
    "***\n",
    "## <span style=\"color:red\">5: NUM_TIMES_NEG</span>\n",
    "### Number of time the account went negative.\n",
    "***"
   ],
   "metadata": {
    "collapsed": false,
    "pycharm": {
     "name": "#%% md\n"
    }
   }
  },
  {
   "cell_type": "code",
   "execution_count": 47,
   "metadata": {
    "pycharm": {
     "name": "#%%\n"
    }
   },
   "outputs": [
    {
     "name": "stdout",
     "output_type": "stream",
     "text": [
      "*** For the field num_times_neg ***\n",
      "\n",
      "Unique values:\n",
      " [  0   1  12   3   6  25   2   5   7   8  30  58   9  31   4  14  43  11\n",
      "  39  10  27  15  19  17  41  36  24  18  34  22  37  28  13  29  42  59\n",
      "  16  56  35  21  67  60  48  33  38  26  20  47  94  65  32  74  23  69\n",
      "  53  49  51  45  62  44  68  64 132  77  92  82  40  50 107  61  57  79\n",
      "  81  75  83  63  66  78  80  46  54  52  55]\n",
      "\n",
      "The value counts are:\n",
      "0     50376\n",
      "1      1933\n",
      "2       952\n",
      "3       595\n",
      "4       398\n",
      "      ...  \n",
      "80        1\n",
      "94        1\n",
      "54        1\n",
      "52        1\n",
      "55        1\n",
      "Name: num_times_neg, Length: 83, dtype: int64\n",
      "\n",
      "Count of NULL num_times_neg values: 0\n",
      "Count of NA num_times_neg values: 0\n",
      "Plot out Values\n"
     ]
    },
    {
     "data": {
      "text/plain": "<Figure size 2160x720 with 1 Axes>",
      "image/png": "[encoded data removed]"
     },
     "metadata": {},
     "output_type": "display_data"
    }
   ],
   "source": [
    "check_catVar('num_times_neg')"
   ]
  },
  {
   "cell_type": "code",
   "execution_count": 48,
   "outputs": [
    {
     "name": "stdout",
     "output_type": "stream",
     "text": [
      "num_times_neg    0     1    2    3    4    5    6    7    8    9    ...  78   \\\n",
      "cos                                                                 ...        \n",
      "0              50283  1842  877  550  374  276  227  192  171  153  ...    1   \n",
      "1                 93    91   75   45   24   16   21   15   14   15  ...    0   \n",
      "\n",
      "num_times_neg  79   80   81   82   83   92   94   107  132  \n",
      "cos                                                         \n",
      "0                1    1    1    2    2    1    1    1    1  \n",
      "1                0    0    0    0    0    0    0    0    0  \n",
      "\n",
      "[2 rows x 83 columns]\n"
     ]
    }
   ],
   "source": [
    "# Cross Tab with Target Variable\n",
    "ct_cos_numtimeneg = pd.crosstab(data['cos'],data['num_times_neg'])\n",
    "print(ct_cos_numtimeneg)"
   ],
   "metadata": {
    "collapsed": false,
    "pycharm": {
     "name": "#%%\n"
    }
   }
  },
  {
   "cell_type": "code",
   "execution_count": 62,
   "outputs": [],
   "source": [
    "# Bin values to make them statistically significant.\n",
    "data['num_times_neg_bin'] = pd.cut(data['num_times_neg'], bins=(0, 2, 25, 26, 49, 300),\n",
    "                                  labels=['bin1', 'bin2', 'bin3', 'bin4', 'bin5'], right=False, include_lowest=True,\n",
    "                                  ordered=False)"
   ],
   "metadata": {
    "collapsed": false,
    "pycharm": {
     "name": "#%%\n"
    }
   }
  },
  {
   "cell_type": "code",
   "execution_count": 63,
   "outputs": [
    {
     "name": "stdout",
     "output_type": "stream",
     "text": [
      "NORMALIZE BY BIN, OR PORTION OF CHARGE-OFFS.\n",
      "num_times_neg_bin      bin1      bin2   bin3      bin4      bin5\n",
      "cos                                                             \n",
      "0                  0.996482  0.925898  0.875  0.898955  0.933333\n",
      "1                  0.003518  0.074102  0.125  0.101045  0.066667\n",
      "\n",
      "NORMALIZE BY ROW, OR PORTION OF MEMBERS.\n",
      "num_times_neg_bin      bin1      bin2      bin3      bin4      bin5\n",
      "cos                                                                \n",
      "0                  0.928152  0.065634  0.000374  0.004594  0.001246\n",
      "1                  0.356589  0.571705  0.005814  0.056202  0.009690\n",
      "\n",
      "DIRECT COUNTS.\n",
      "num_times_neg_bin   bin1  bin2  bin3  bin4  bin5\n",
      "cos                                             \n",
      "0                  52125  3686    21   258    70\n",
      "1                    184   295     3    29     5\n"
     ]
    }
   ],
   "source": [
    "\n",
    "print(\"Normalize by bin, or portion of charge-offs.\".upper())\n",
    "ct_cos_num_times_neg_bin1 = pd.crosstab(data['cos'], data['num_times_neg_bin']).apply(lambda r:r/r.sum(), axis=0)\n",
    "print(ct_cos_num_times_neg_bin1)\n",
    "\n",
    "print(\"\\nNormalize by row, or portion of members.\".upper())\n",
    "ct_cos_num_times_neg_bin2 = pd.crosstab(data['cos'], data['num_times_neg_bin']).apply(lambda r:r/r.sum(), axis=1)\n",
    "print(ct_cos_num_times_neg_bin2)\n",
    "\n",
    "print(\"\\nDirect Counts.\".upper())\n",
    "ct_cos_num_times_neg_bin = pd.crosstab(data['cos'], data['num_times_neg_bin'])\n",
    "print(ct_cos_num_times_neg_bin)\n",
    "\n"
   ],
   "metadata": {
    "collapsed": false,
    "pycharm": {
     "name": "#%%\n"
    }
   }
  },
  {
   "cell_type": "markdown",
   "source": [
    "* **\n",
    "***\n",
    "## <span style=\"color:red\">6: MAX_DAYS_NEG</span>\n",
    "### Maximum consecutive days account was negative.\n",
    "***"
   ],
   "metadata": {
    "collapsed": false,
    "pycharm": {
     "name": "#%% md\n"
    }
   }
  },
  {
   "cell_type": "code",
   "execution_count": null,
   "outputs": [],
   "source": [
    "check_catVar('max_days_neg')"
   ],
   "metadata": {
    "collapsed": false,
    "pycharm": {
     "name": "#%%\n"
    }
   }
  },
  {
   "cell_type": "code",
   "execution_count": 40,
   "outputs": [],
   "source": [
    "# Using Excel, inspect how max_days_neg field correlates with charged-off accounts.\n",
    "# Modeling tactic: bin the values of max_days_neg to create statistical significance.\n",
    "data['max_days_neg_bin'] = pd.cut(data['max_days_neg'], bins=(0,1,15,40,110,300), labels=['bin1', 'bin2', 'bin3', 'bin4', 'bin5'], right=False, include_lowest=True, ordered=False)"
   ],
   "metadata": {
    "collapsed": false,
    "pycharm": {
     "name": "#%%\n"
    }
   }
  },
  {
   "cell_type": "code",
   "execution_count": 45,
   "outputs": [
    {
     "name": "stdout",
     "output_type": "stream",
     "text": [
      "max_days_neg_bin   bin1  bin2  bin3  bin4  bin5\n",
      "cos                                            \n",
      "0                 50283  4541   847   417    72\n",
      "1                    93   230   108    70    14\n"
     ]
    }
   ],
   "source": [
    "ct_cos_max_days_neg_bin = pd.crosstab(data['cos'], data['max_days_neg_bin'])\n",
    "print(ct_cos_max_days_neg_bin)"
   ],
   "metadata": {
    "collapsed": false,
    "pycharm": {
     "name": "#%%\n"
    }
   }
  },
  {
   "cell_type": "code",
   "execution_count": null,
   "outputs": [],
   "source": [],
   "metadata": {
    "collapsed": false,
    "pycharm": {
     "name": "#%%\n"
    }
   }
  },
  {
   "cell_type": "code",
   "execution_count": 64,
   "outputs": [
    {
     "name": "stdout",
     "output_type": "stream",
     "text": [
      "NORMALIZE BY BIN, OR PORTION OF CHARGE-OFFS.\n",
      "num_times_neg_bin      bin1      bin2   bin3      bin4      bin5\n",
      "cos                                                             \n",
      "0                  0.996482  0.925898  0.875  0.898955  0.933333\n",
      "1                  0.003518  0.074102  0.125  0.101045  0.066667\n",
      "\n",
      "NORMALIZE BY ROW, OR PORTION OF MEMBERS.\n",
      "num_times_neg_bin      bin1      bin2      bin3      bin4      bin5\n",
      "cos                                                                \n",
      "0                  0.928152  0.065634  0.000374  0.004594  0.001246\n",
      "1                  0.356589  0.571705  0.005814  0.056202  0.009690\n",
      "\n",
      "DIRECT COUNTS.\n",
      "num_times_neg_bin   bin1  bin2  bin3  bin4  bin5\n",
      "cos                                             \n",
      "0                  52125  3686    21   258    70\n",
      "1                    184   295     3    29     5\n"
     ]
    }
   ],
   "source": [
    "print(\"Normalize by bin, or portion of charge-offs.\".upper())\n",
    "ct_cos_max_days_neg_bin1 = pd.crosstab(data['cos'], data['max_days_neg_bin']).apply(lambda r:r/r.sum(), axis=0)\n",
    "print(ct_cos_num_times_neg_bin1)\n",
    "\n",
    "print(\"\\nNormalize by row, or portion of members.\".upper())\n",
    "ct_cos_max_days_neg_bin2 = pd.crosstab(data['cos'], data['max_days_neg_bin']).apply(lambda r:r/r.sum(), axis=1)\n",
    "print(ct_cos_num_times_neg_bin2)\n",
    "\n",
    "print(\"\\nDirect Counts.\".upper())\n",
    "ct_cos_max_days_neg_bin = pd.crosstab(data['cos'], data['max_days_neg_bin'])\n",
    "print(ct_cos_num_times_neg_bin)\n"
   ],
   "metadata": {
    "collapsed": false,
    "pycharm": {
     "name": "#%%\n"
    }
   }
  },
  {
   "cell_type": "markdown",
   "source": [
    "Note on the transformation:\n",
    "The nature of max_day_neg field requires that it be binned when used as a feature to any model.\n",
    "bin1: 0-1\n",
    "bin2: 2-14\n",
    "bin3: 15-39\n",
    "bin4: 40-109\n",
    "bin5: 110 and above\n"
   ],
   "metadata": {
    "collapsed": false,
    "pycharm": {
     "name": "#%% md\n"
    }
   }
  },
  {
   "cell_type": "markdown",
   "source": [
    "* **\n",
    "***\n",
    "## <span style=\"color:red\">7: RIM_AGE</span>\n",
    "### Age of the accout owner's membership in months\n",
    "***"
   ],
   "metadata": {
    "collapsed": false,
    "pycharm": {
     "name": "#%% md\n"
    }
   }
  },
  {
   "cell_type": "code",
   "execution_count": null,
   "outputs": [],
   "source": [
    "check_contVar('rim_age')"
   ],
   "metadata": {
    "collapsed": false,
    "pycharm": {
     "name": "#%%\n"
    }
   }
  },
  {
   "cell_type": "code",
   "execution_count": null,
   "outputs": [],
   "source": [
    "plt.hist(data['rim_age'], bins=42)\n",
    "plt.rcParams['figure.figsize'] = (30,10)\n",
    "plt.show()"
   ],
   "metadata": {
    "collapsed": false,
    "pycharm": {
     "name": "#%%\n"
    }
   }
  },
  {
   "cell_type": "code",
   "execution_count": null,
   "outputs": [],
   "source": [
    "# what is the distribution of rim_age among those that have COS?\n",
    "data_cosPOS = data[data['cos'].values == 1].copy(deep=True)\n",
    "plt.hist(data_cosPOS['rim_age'], bins=42)\n",
    "plt.rcParams['figure.figsize'] = (30,10)\n",
    "plt.show()"
   ],
   "metadata": {
    "collapsed": false,
    "pycharm": {
     "name": "#%%\n"
    }
   }
  },
  {
   "cell_type": "markdown",
   "source": [
    "* **\n",
    "***\n",
    "## <span style=\"color:red\">8: CK_RETURNS</span>\n",
    "### Number of returned checks since Jan. 2017\n",
    "***"
   ],
   "metadata": {
    "collapsed": false,
    "pycharm": {
     "name": "#%% md\n"
    }
   }
  },
  {
   "cell_type": "code",
   "execution_count": null,
   "outputs": [],
   "source": [
    "check_contVar('ck_returns')"
   ],
   "metadata": {
    "collapsed": false,
    "pycharm": {
     "name": "#%%\n"
    }
   }
  },
  {
   "cell_type": "code",
   "execution_count": null,
   "outputs": [],
   "source": [
    "plt.hist(data['ck_returns'], bins=42)\n",
    "plt.rcParams['figure.figsize'] = (30,10)\n",
    "plt.show()"
   ],
   "metadata": {
    "collapsed": false,
    "pycharm": {
     "name": "#%%\n"
    }
   }
  },
  {
   "cell_type": "markdown",
   "source": [
    "* **\n",
    "***\n",
    "## <span style=\"color:red\">9: FICO_B</span>\n",
    "### FICO credit score\n",
    "***"
   ],
   "metadata": {
    "collapsed": false,
    "pycharm": {
     "name": "#%% md\n"
    }
   }
  },
  {
   "cell_type": "code",
   "execution_count": null,
   "outputs": [],
   "source": [
    "check_contVar(\"fico_b\")"
   ],
   "metadata": {
    "collapsed": false,
    "pycharm": {
     "name": "#%%\n"
    }
   }
  },
  {
   "cell_type": "code",
   "execution_count": null,
   "outputs": [],
   "source": [
    "plt.hist(data['fico_b'], bins=100)\n",
    "plt.rcParams['figure.figsize'] = (30,10)\n",
    "plt.show()"
   ],
   "metadata": {
    "collapsed": false,
    "pycharm": {
     "name": "#%%\n"
    }
   }
  },
  {
   "cell_type": "code",
   "execution_count": null,
   "outputs": [],
   "source": [
    "# what is the distribution of rim_age among those that have COS?\n",
    "data_cosPOS = data[data['cos'].values == 1].copy(deep=True)\n",
    "plt.hist(data_cosPOS['fico_b'], bins=100)\n",
    "plt.rcParams['figure.figsize'] = (30,10)\n",
    "plt.show()"
   ],
   "metadata": {
    "collapsed": false,
    "pycharm": {
     "name": "#%%\n"
    }
   }
  },
  {
   "cell_type": "code",
   "execution_count": null,
   "outputs": [],
   "source": [
    "# How many fico scores are 0?\n",
    "COSall_FICO_Zero = data[data['fico_b'] == 0]\n",
    "print(\"Count of FICO scores = 0: \", COSall_FICO_Zero.shape[0])\n",
    "COSpos_FICO_Zero = data[(data['fico_b'] == 0) & (data['cos'] == 1)]\n",
    "print(\"Count of FICO scores = 0 AND COS positive: \", COSpos_FICO_Zero.shape[0])"
   ],
   "metadata": {
    "collapsed": false,
    "pycharm": {
     "name": "#%%\n"
    }
   }
  },
  {
   "cell_type": "markdown",
   "source": [
    "* **\n",
    "***\n",
    "## <span style=\"color:red\">10: AVG_BAL6</span>\n",
    "### Rolling 6-month deposit amount\n",
    "***"
   ],
   "metadata": {
    "collapsed": false,
    "pycharm": {
     "name": "#%% md\n"
    }
   }
  },
  {
   "cell_type": "code",
   "execution_count": null,
   "outputs": [],
   "source": [
    "check_contVar('avg_bal6')"
   ],
   "metadata": {
    "collapsed": false,
    "pycharm": {
     "name": "#%%\n"
    }
   }
  },
  {
   "cell_type": "code",
   "execution_count": null,
   "outputs": [],
   "source": [
    "plt.hist(data['avg_bal6'], bins=300)\n",
    "plt.rcParams['figure.figsize'] = (30,10)\n",
    "plt.show()"
   ],
   "metadata": {
    "collapsed": false,
    "pycharm": {
     "name": "#%%\n"
    }
   }
  },
  {
   "cell_type": "markdown",
   "source": [
    "* **\n",
    "***\n",
    "## <span style=\"color:red\">11: AVG_BAL3</span>\n",
    "### Rolling 3-month deposit amount\n",
    "***"
   ],
   "metadata": {
    "collapsed": false,
    "pycharm": {
     "name": "#%% md\n"
    }
   }
  },
  {
   "cell_type": "code",
   "execution_count": null,
   "outputs": [],
   "source": [
    "check_contVar('avg_bal3')"
   ],
   "metadata": {
    "collapsed": false,
    "pycharm": {
     "name": "#%%\n"
    }
   }
  },
  {
   "cell_type": "code",
   "execution_count": null,
   "outputs": [],
   "source": [
    "plt.hist(data['avg_bal3'], bins=300)\n",
    "plt.rcParams['figure.figsize'] = (30,10)\n",
    "plt.show()"
   ],
   "metadata": {
    "collapsed": false,
    "pycharm": {
     "name": "#%%\n"
    }
   }
  },
  {
   "cell_type": "code",
   "execution_count": null,
   "outputs": [],
   "source": [],
   "metadata": {
    "collapsed": false,
    "pycharm": {
     "name": "#%%\n"
    }
   }
  }
 ],
 "metadata": {
  "kernelspec": {
   "display_name": "Python 3 (ipykernel)",
   "language": "python",
   "name": "python3"
  },
  "language_info": {
   "codemirror_mode": {
    "name": "ipython",
    "version": 3
   },
   "file_extension": ".py",
   "mimetype": "text/x-python",
   "name": "python",
   "nbconvert_exporter": "python",
   "pygments_lexer": "ipython3",
   "version": "3.8.8"
  }
 },
 "nbformat": 4,
 "nbformat_minor": 1
}