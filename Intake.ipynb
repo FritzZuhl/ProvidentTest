{
 "cells": [
  {
   "cell_type": "markdown",
   "metadata": {},
   "source": [
    "# Exploratory Data Analysis"
   ]
  },
  {
   "cell_type": "code",
   "execution_count": 212,
   "metadata": {},
   "outputs": [],
   "source": [
    "# Importing required libraries.\n",
    "import pandas as pd\n",
    "import numpy as np\n",
    "import seaborn as sns #visualisation\n",
    "import matplotlib.pyplot as plt #visualisation\n",
    "from matplotlib.pyplot import figure\n",
    "%matplotlib inline\n",
    "sns.set(color_codes=True)"
   ]
  },
  {
   "cell_type": "markdown",
   "metadata": {
    "pycharm": {
     "name": "#%% md\n"
    }
   },
   "source": [
    "***\n",
    "## Section 1 - Read in the data\n",
    "### General Sanity Checks"
   ]
  },
  {
   "cell_type": "code",
   "execution_count": 213,
   "outputs": [],
   "source": [
    "data = pd.read_csv(\"mrm5_model_data.csv\")"
   ],
   "metadata": {
    "collapsed": false,
    "pycharm": {
     "name": "#%%\n"
    }
   }
  },
  {
   "cell_type": "code",
   "execution_count": 214,
   "metadata": {
    "pycharm": {
     "name": "#%%\n"
    }
   },
   "outputs": [
    {
     "name": "stdout",
     "output_type": "stream",
     "text": [
      "<bound method DataFrame.info of          account_id  status  cos  rim_age  loan  s_plus_c  fico_b  ck_returns  \\\n",
      "0      FjWHEBLtghQ7  Closed    1        4     0         0     761         NaN   \n",
      "1      NY9sb3zWSC7L  Closed    1       41     0         1     766         NaN   \n",
      "2      CsgsApaKRyUc  Closed    1       42     0         1     636         NaN   \n",
      "3      xtDoVry22KCc  Closed    1       42     0         1     507         NaN   \n",
      "4      AY1ULa7dimU5  Closed    1       41     0         1     471         NaN   \n",
      "...             ...     ...  ...      ...   ...       ...     ...         ...   \n",
      "56671  klCLOY2EycCd  Active    0        0     0         1       0         NaN   \n",
      "56672  Gj3ta4BAqFC6  Active    0        0     1         0       0         NaN   \n",
      "56673  TyrkQdxcDaJU  Active    0        0     0         0       0         NaN   \n",
      "56674  u5SzVvhz1S3U  Active    0        0     0         1       0         NaN   \n",
      "56675  HbCPuxsnV1de  Active    0        0     0         1       0         NaN   \n",
      "\n",
      "       max_days_neg  num_times_neg  ntriggers  avg_bal6  avg_bal3  \n",
      "0                 0              0          0       NaN       NaN  \n",
      "1                 0              0          0       NaN       NaN  \n",
      "2                 1              1          2       NaN       NaN  \n",
      "3                74             12          7       NaN       NaN  \n",
      "4                 1              3          2       NaN       NaN  \n",
      "...             ...            ...        ...       ...       ...  \n",
      "56671             0              0          0       NaN       NaN  \n",
      "56672             0              0          0       NaN       NaN  \n",
      "56673             0              0          0       NaN       NaN  \n",
      "56674             0              0          0       NaN       NaN  \n",
      "56675             0              0          0       NaN       NaN  \n",
      "\n",
      "[56676 rows x 13 columns]>\n"
     ]
    }
   ],
   "source": [
    "print(data.info)"
   ]
  },
  {
   "cell_type": "code",
   "execution_count": 215,
   "metadata": {
    "pycharm": {
     "name": "#%%\n"
    }
   },
   "outputs": [
    {
     "data": {
      "text/plain": "                cos       rim_age          loan      s_plus_c        fico_b  \\\ncount  56676.000000  56676.000000  56676.000000  56676.000000  56676.000000   \nmean       0.009104     21.966088      0.288941      0.666526    519.410932   \nstd        0.094982     12.395577      0.453274      0.471459    330.750199   \nmin        0.000000      0.000000      0.000000      0.000000      0.000000   \n25%        0.000000     11.000000      0.000000      0.000000      0.000000   \n50%        0.000000     22.000000      0.000000      1.000000    694.000000   \n75%        0.000000     33.000000      1.000000      1.000000    771.000000   \nmax        1.000000     42.000000      1.000000      1.000000    844.000000   \n\n       ck_returns  max_days_neg  num_times_neg     ntriggers      avg_bal6  \\\ncount  835.000000  56676.000000   56676.000000  56676.000000  5.122600e+04   \nmean     1.450299      1.530454       0.772285      0.431947  1.474701e+04   \nstd      1.142533      8.795420       4.069600      1.502197  5.145974e+04   \nmin      1.000000      0.000000       0.000000      0.000000 -4.674000e+03   \n25%      1.000000      0.000000       0.000000      0.000000  5.300000e+01   \n50%      1.000000      0.000000       0.000000      0.000000  1.036000e+03   \n75%      1.000000      0.000000       0.000000      0.000000  8.356500e+03   \nmax     11.000000    376.000000     132.000000     21.000000  1.708350e+06   \n\n           avg_bal3  \ncount  5.039600e+04  \nmean   1.606729e+04  \nstd    5.677016e+04  \nmin   -6.230000e+03  \n25%    4.900000e+01  \n50%    1.107000e+03  \n75%    9.405000e+03  \nmax    1.748436e+06  ",
      "text/html": "<div>\n<style scoped>\n    .dataframe tbody tr th:only-of-type {\n        vertical-align: middle;\n    }\n\n    .dataframe tbody tr th {\n        vertical-align: top;\n    }\n\n    .dataframe thead th {\n        text-align: right;\n    }\n</style>\n<table border=\"1\" class=\"dataframe\">\n  <thead>\n    <tr style=\"text-align: right;\">\n      <th></th>\n      <th>cos</th>\n      <th>rim_age</th>\n      <th>loan</th>\n      <th>s_plus_c</th>\n      <th>fico_b</th>\n      <th>ck_returns</th>\n      <th>max_days_neg</th>\n      <th>num_times_neg</th>\n      <th>ntriggers</th>\n      <th>avg_bal6</th>\n      <th>avg_bal3</th>\n    </tr>\n  </thead>\n  <tbody>\n    <tr>\n      <th>count</th>\n      <td>56676.000000</td>\n      <td>56676.000000</td>\n      <td>56676.000000</td>\n      <td>56676.000000</td>\n      <td>56676.000000</td>\n      <td>835.000000</td>\n      <td>56676.000000</td>\n      <td>56676.000000</td>\n      <td>56676.000000</td>\n      <td>5.122600e+04</td>\n      <td>5.039600e+04</td>\n    </tr>\n    <tr>\n      <th>mean</th>\n      <td>0.009104</td>\n      <td>21.966088</td>\n      <td>0.288941</td>\n      <td>0.666526</td>\n      <td>519.410932</td>\n      <td>1.450299</td>\n      <td>1.530454</td>\n      <td>0.772285</td>\n      <td>0.431947</td>\n      <td>1.474701e+04</td>\n      <td>1.606729e+04</td>\n    </tr>\n    <tr>\n      <th>std</th>\n      <td>0.094982</td>\n      <td>12.395577</td>\n      <td>0.453274</td>\n      <td>0.471459</td>\n      <td>330.750199</td>\n      <td>1.142533</td>\n      <td>8.795420</td>\n      <td>4.069600</td>\n      <td>1.502197</td>\n      <td>5.145974e+04</td>\n      <td>5.677016e+04</td>\n    </tr>\n    <tr>\n      <th>min</th>\n      <td>0.000000</td>\n      <td>0.000000</td>\n      <td>0.000000</td>\n      <td>0.000000</td>\n      <td>0.000000</td>\n      <td>1.000000</td>\n      <td>0.000000</td>\n      <td>0.000000</td>\n      <td>0.000000</td>\n      <td>-4.674000e+03</td>\n      <td>-6.230000e+03</td>\n    </tr>\n    <tr>\n      <th>25%</th>\n      <td>0.000000</td>\n      <td>11.000000</td>\n      <td>0.000000</td>\n      <td>0.000000</td>\n      <td>0.000000</td>\n      <td>1.000000</td>\n      <td>0.000000</td>\n      <td>0.000000</td>\n      <td>0.000000</td>\n      <td>5.300000e+01</td>\n      <td>4.900000e+01</td>\n    </tr>\n    <tr>\n      <th>50%</th>\n      <td>0.000000</td>\n      <td>22.000000</td>\n      <td>0.000000</td>\n      <td>1.000000</td>\n      <td>694.000000</td>\n      <td>1.000000</td>\n      <td>0.000000</td>\n      <td>0.000000</td>\n      <td>0.000000</td>\n      <td>1.036000e+03</td>\n      <td>1.107000e+03</td>\n    </tr>\n    <tr>\n      <th>75%</th>\n      <td>0.000000</td>\n      <td>33.000000</td>\n      <td>1.000000</td>\n      <td>1.000000</td>\n      <td>771.000000</td>\n      <td>1.000000</td>\n      <td>0.000000</td>\n      <td>0.000000</td>\n      <td>0.000000</td>\n      <td>8.356500e+03</td>\n      <td>9.405000e+03</td>\n    </tr>\n    <tr>\n      <th>max</th>\n      <td>1.000000</td>\n      <td>42.000000</td>\n      <td>1.000000</td>\n      <td>1.000000</td>\n      <td>844.000000</td>\n      <td>11.000000</td>\n      <td>376.000000</td>\n      <td>132.000000</td>\n      <td>21.000000</td>\n      <td>1.708350e+06</td>\n      <td>1.748436e+06</td>\n    </tr>\n  </tbody>\n</table>\n</div>"
     },
     "execution_count": 215,
     "metadata": {},
     "output_type": "execute_result"
    }
   ],
   "source": [
    "data.describe()"
   ]
  },
  {
   "cell_type": "code",
   "execution_count": 216,
   "metadata": {
    "pycharm": {
     "name": "#%%\n"
    }
   },
   "outputs": [
    {
     "data": {
      "text/plain": "['account_id',\n 'status',\n 'cos',\n 'rim_age',\n 'loan',\n 's_plus_c',\n 'fico_b',\n 'ck_returns',\n 'max_days_neg',\n 'num_times_neg',\n 'ntriggers',\n 'avg_bal6',\n 'avg_bal3']"
     },
     "execution_count": 216,
     "metadata": {},
     "output_type": "execute_result"
    }
   ],
   "source": [
    "# What are the fields in the data\n",
    "data.columns.tolist()"
   ]
  },
  {
   "cell_type": "code",
   "execution_count": 217,
   "metadata": {
    "pycharm": {
     "name": "#%%\n"
    }
   },
   "outputs": [
    {
     "data": {
      "text/plain": "     account_id  status  cos  rim_age  loan  s_plus_c  fico_b  ck_returns  \\\n0  FjWHEBLtghQ7  Closed    1        4     0         0     761         NaN   \n1  NY9sb3zWSC7L  Closed    1       41     0         1     766         NaN   \n2  CsgsApaKRyUc  Closed    1       42     0         1     636         NaN   \n3  xtDoVry22KCc  Closed    1       42     0         1     507         NaN   \n4  AY1ULa7dimU5  Closed    1       41     0         1     471         NaN   \n\n   max_days_neg  num_times_neg  ntriggers  avg_bal6  avg_bal3  \n0             0              0          0       NaN       NaN  \n1             0              0          0       NaN       NaN  \n2             1              1          2       NaN       NaN  \n3            74             12          7       NaN       NaN  \n4             1              3          2       NaN       NaN  ",
      "text/html": "<div>\n<style scoped>\n    .dataframe tbody tr th:only-of-type {\n        vertical-align: middle;\n    }\n\n    .dataframe tbody tr th {\n        vertical-align: top;\n    }\n\n    .dataframe thead th {\n        text-align: right;\n    }\n</style>\n<table border=\"1\" class=\"dataframe\">\n  <thead>\n    <tr style=\"text-align: right;\">\n      <th></th>\n      <th>account_id</th>\n      <th>status</th>\n      <th>cos</th>\n      <th>rim_age</th>\n      <th>loan</th>\n      <th>s_plus_c</th>\n      <th>fico_b</th>\n      <th>ck_returns</th>\n      <th>max_days_neg</th>\n      <th>num_times_neg</th>\n      <th>ntriggers</th>\n      <th>avg_bal6</th>\n      <th>avg_bal3</th>\n    </tr>\n  </thead>\n  <tbody>\n    <tr>\n      <th>0</th>\n      <td>FjWHEBLtghQ7</td>\n      <td>Closed</td>\n      <td>1</td>\n      <td>4</td>\n      <td>0</td>\n      <td>0</td>\n      <td>761</td>\n      <td>NaN</td>\n      <td>0</td>\n      <td>0</td>\n      <td>0</td>\n      <td>NaN</td>\n      <td>NaN</td>\n    </tr>\n    <tr>\n      <th>1</th>\n      <td>NY9sb3zWSC7L</td>\n      <td>Closed</td>\n      <td>1</td>\n      <td>41</td>\n      <td>0</td>\n      <td>1</td>\n      <td>766</td>\n      <td>NaN</td>\n      <td>0</td>\n      <td>0</td>\n      <td>0</td>\n      <td>NaN</td>\n      <td>NaN</td>\n    </tr>\n    <tr>\n      <th>2</th>\n      <td>CsgsApaKRyUc</td>\n      <td>Closed</td>\n      <td>1</td>\n      <td>42</td>\n      <td>0</td>\n      <td>1</td>\n      <td>636</td>\n      <td>NaN</td>\n      <td>1</td>\n      <td>1</td>\n      <td>2</td>\n      <td>NaN</td>\n      <td>NaN</td>\n    </tr>\n    <tr>\n      <th>3</th>\n      <td>xtDoVry22KCc</td>\n      <td>Closed</td>\n      <td>1</td>\n      <td>42</td>\n      <td>0</td>\n      <td>1</td>\n      <td>507</td>\n      <td>NaN</td>\n      <td>74</td>\n      <td>12</td>\n      <td>7</td>\n      <td>NaN</td>\n      <td>NaN</td>\n    </tr>\n    <tr>\n      <th>4</th>\n      <td>AY1ULa7dimU5</td>\n      <td>Closed</td>\n      <td>1</td>\n      <td>41</td>\n      <td>0</td>\n      <td>1</td>\n      <td>471</td>\n      <td>NaN</td>\n      <td>1</td>\n      <td>3</td>\n      <td>2</td>\n      <td>NaN</td>\n      <td>NaN</td>\n    </tr>\n  </tbody>\n</table>\n</div>"
     },
     "execution_count": 217,
     "metadata": {},
     "output_type": "execute_result"
    }
   ],
   "source": [
    "data.head()"
   ]
  },
  {
   "cell_type": "code",
   "execution_count": 218,
   "metadata": {
    "pycharm": {
     "name": "#%%\n"
    }
   },
   "outputs": [
    {
     "data": {
      "text/plain": "         account_id  status  cos  rim_age  loan  s_plus_c  fico_b  ck_returns  \\\n56671  klCLOY2EycCd  Active    0        0     0         1       0         NaN   \n56672  Gj3ta4BAqFC6  Active    0        0     1         0       0         NaN   \n56673  TyrkQdxcDaJU  Active    0        0     0         0       0         NaN   \n56674  u5SzVvhz1S3U  Active    0        0     0         1       0         NaN   \n56675  HbCPuxsnV1de  Active    0        0     0         1       0         NaN   \n\n       max_days_neg  num_times_neg  ntriggers  avg_bal6  avg_bal3  \n56671             0              0          0       NaN       NaN  \n56672             0              0          0       NaN       NaN  \n56673             0              0          0       NaN       NaN  \n56674             0              0          0       NaN       NaN  \n56675             0              0          0       NaN       NaN  ",
      "text/html": "<div>\n<style scoped>\n    .dataframe tbody tr th:only-of-type {\n        vertical-align: middle;\n    }\n\n    .dataframe tbody tr th {\n        vertical-align: top;\n    }\n\n    .dataframe thead th {\n        text-align: right;\n    }\n</style>\n<table border=\"1\" class=\"dataframe\">\n  <thead>\n    <tr style=\"text-align: right;\">\n      <th></th>\n      <th>account_id</th>\n      <th>status</th>\n      <th>cos</th>\n      <th>rim_age</th>\n      <th>loan</th>\n      <th>s_plus_c</th>\n      <th>fico_b</th>\n      <th>ck_returns</th>\n      <th>max_days_neg</th>\n      <th>num_times_neg</th>\n      <th>ntriggers</th>\n      <th>avg_bal6</th>\n      <th>avg_bal3</th>\n    </tr>\n  </thead>\n  <tbody>\n    <tr>\n      <th>56671</th>\n      <td>klCLOY2EycCd</td>\n      <td>Active</td>\n      <td>0</td>\n      <td>0</td>\n      <td>0</td>\n      <td>1</td>\n      <td>0</td>\n      <td>NaN</td>\n      <td>0</td>\n      <td>0</td>\n      <td>0</td>\n      <td>NaN</td>\n      <td>NaN</td>\n    </tr>\n    <tr>\n      <th>56672</th>\n      <td>Gj3ta4BAqFC6</td>\n      <td>Active</td>\n      <td>0</td>\n      <td>0</td>\n      <td>1</td>\n      <td>0</td>\n      <td>0</td>\n      <td>NaN</td>\n      <td>0</td>\n      <td>0</td>\n      <td>0</td>\n      <td>NaN</td>\n      <td>NaN</td>\n    </tr>\n    <tr>\n      <th>56673</th>\n      <td>TyrkQdxcDaJU</td>\n      <td>Active</td>\n      <td>0</td>\n      <td>0</td>\n      <td>0</td>\n      <td>0</td>\n      <td>0</td>\n      <td>NaN</td>\n      <td>0</td>\n      <td>0</td>\n      <td>0</td>\n      <td>NaN</td>\n      <td>NaN</td>\n    </tr>\n    <tr>\n      <th>56674</th>\n      <td>u5SzVvhz1S3U</td>\n      <td>Active</td>\n      <td>0</td>\n      <td>0</td>\n      <td>0</td>\n      <td>1</td>\n      <td>0</td>\n      <td>NaN</td>\n      <td>0</td>\n      <td>0</td>\n      <td>0</td>\n      <td>NaN</td>\n      <td>NaN</td>\n    </tr>\n    <tr>\n      <th>56675</th>\n      <td>HbCPuxsnV1de</td>\n      <td>Active</td>\n      <td>0</td>\n      <td>0</td>\n      <td>0</td>\n      <td>1</td>\n      <td>0</td>\n      <td>NaN</td>\n      <td>0</td>\n      <td>0</td>\n      <td>0</td>\n      <td>NaN</td>\n      <td>NaN</td>\n    </tr>\n  </tbody>\n</table>\n</div>"
     },
     "execution_count": 218,
     "metadata": {},
     "output_type": "execute_result"
    }
   ],
   "source": [
    "data.tail()"
   ]
  },
  {
   "cell_type": "markdown",
   "metadata": {
    "pycharm": {
     "name": "#%% md\n"
    }
   },
   "source": [
    "***\n",
    "***\n",
    "##\n",
    "## Section 2\n",
    "+ ### Looking at the Variables Individually.\n",
    "+ ### How do they compare/correlate/relate to target value COS?\n",
    "+ ### Feature Engineering - Transform some fields to improve their predictability and prevent over-fitting within a classification models.\n",
    "\n",
    "#### Note: For speed, I used Excel as a kind of scratch pad as a side tool to look at these fields, and for some common univariate analysis. The Excel file is not included, but is available upon request."
   ]
  },
  {
   "cell_type": "code",
   "execution_count": 219,
   "metadata": {
    "pycharm": {
     "name": "#%%\n"
    }
   },
   "outputs": [],
   "source": [
    "# Helper Functions\n",
    "# These functions are used throughout this EDA, and bring a general 'feel' of the data.\n",
    "# They check for completeness, range, outliers, other errors.\n",
    "\n",
    "import matplotlib.pyplot as plt\n",
    "\n",
    "def plot_catVar(var_name):\n",
    "    valueCounts = data[var_name].value_counts()\n",
    "    ind = list(valueCounts.index)\n",
    "    val = list(valueCounts.values)\n",
    "    fig = plt.figure(figsize=(30, 10))\n",
    "    plt.bar(ind, val, color='blue', width=0.4)\n",
    "    plt.ylabel(\"Counts\")\n",
    "    plt.xlabel(var_name.upper())\n",
    "    plt.title(\"Counts of {} values\".format(var_name.upper()))\n",
    "    plt.show()\n",
    "\n",
    "def check_catVar(var_name):\n",
    "    unique_values = data[var_name].unique()\n",
    "    valueCounts = data[var_name].value_counts()\n",
    "    print(\"*** For the field {} ***\".format(var_name))\n",
    "    print(\"\\nUnique values:\\n\", unique_values)\n",
    "    print(\"\\nThe value counts are:\")\n",
    "    print(valueCounts)\n",
    "    print(\"\\nCount of NULL {} values:\".format(var_name), data[var_name].isnull().sum())\n",
    "    print(\"Count of NA {} values:\".format(var_name), data[var_name].isna().sum())\n",
    "    print(\"Plot out Values\")\n",
    "    plot_catVar(var_name)\n",
    "\n",
    "def check_contVar(var_name):\n",
    "    print(\"\\nCount of NULL {} values:\".format(var_name), data[var_name].isnull().sum())\n",
    "    print(\"Count of NA {} values:\".format(var_name), data[var_name].isna().sum())\n",
    "    print(\"Max value of {}:\".format(var_name), data[var_name].max())\n",
    "    print(\"Min value of {}:\".format(var_name), data[var_name].min())\n",
    "    print(\"Type of value\", type(data[var_name].values))\n",
    "    print(\"Random sample of values:\\n\", data[var_name].sample(n=10))\n",
    "\n",
    "def CrossTabCheck(field):\n",
    "    print(data[field].value_counts())\n",
    "    print(\"\\n\")\n",
    "\n",
    "    print(\"Normalize by bin, or portion of charge-offs.\".upper())\n",
    "    ct1 = pd.crosstab(data['cos'], data[field]).apply(lambda r: r / r.sum(), axis=0)\n",
    "    print(ct1)\n",
    "\n",
    "    print(\"\\nNormalize by row, or portion of members.\".upper())\n",
    "    ct2 = pd.crosstab(data['cos'], data[field]).apply(lambda r: r / r.sum(), axis=1)\n",
    "    print(ct2)\n",
    "\n",
    "    print(\"\\nDirect Counts.\".upper())\n",
    "    ct3 = pd.crosstab(data['cos'], data[field])\n",
    "    print(ct3)"
   ]
  },
  {
   "cell_type": "markdown",
   "metadata": {
    "pycharm": {
     "name": "#%% md\n"
    }
   },
   "source": [
    "***\n",
    "***\n",
    "## <span style=\"color:red\">TARGET: COS </span>\n",
    "### Account Charge-Off Indicator\n",
    "### Dependent or Target Variable\n",
    "***"
   ]
  },
  {
   "cell_type": "code",
   "execution_count": 220,
   "metadata": {
    "pycharm": {
     "name": "#%%\n"
    }
   },
   "outputs": [
    {
     "name": "stdout",
     "output_type": "stream",
     "text": [
      "*** For the field cos ***\n",
      "\n",
      "Unique values:\n",
      " [1 0]\n",
      "\n",
      "The value counts are:\n",
      "0    56160\n",
      "1      516\n",
      "Name: cos, dtype: int64\n",
      "\n",
      "Count of NULL cos values: 0\n",
      "Count of NA cos values: 0\n",
      "Plot out Values\n"
     ]
    },
    {
     "data": {
      "text/plain": "<Figure size 2160x720 with 1 Axes>",
      "image/png": "[encoded data removed]"
     },
     "metadata": {},
     "output_type": "display_data"
    }
   ],
   "source": [
    "check_catVar('cos')\n"
   ]
  },
  {
   "cell_type": "markdown",
   "source": [
    "***\n",
    "***\n",
    "## <span style=\"color:red\">INDEX: ACCOUNT_ID </span>\n",
    "***"
   ],
   "metadata": {
    "collapsed": false,
    "pycharm": {
     "name": "#%% md\n"
    }
   }
  },
  {
   "cell_type": "code",
   "execution_count": 221,
   "metadata": {
    "pycharm": {
     "name": "#%%\n"
    }
   },
   "outputs": [
    {
     "name": "stdout",
     "output_type": "stream",
     "text": [
      "Number of duplicate account_id:  0\n",
      "Number of missing account_id: 0\n"
     ]
    }
   ],
   "source": [
    "# Independent Field: account_id\n",
    "# Is account_id unique and complete?\n",
    "dups = data['account_id'].duplicated()\n",
    "print(\"Number of duplicate account_id: \", dups.sum())\n",
    "# Finding NULL values\n",
    "print(\"Number of missing account_id:\", data[\"account_id\"].isnull().sum())"
   ]
  },
  {
   "cell_type": "markdown",
   "source": [
    "* **\n",
    "***\n",
    "## <span style=\"color:red\">1: STATUS </span>\n",
    "### Last status of account.\n",
    "***"
   ],
   "metadata": {
    "collapsed": false,
    "pycharm": {
     "name": "#%% md\n"
    }
   }
  },
  {
   "cell_type": "code",
   "execution_count": 222,
   "outputs": [
    {
     "name": "stdout",
     "output_type": "stream",
     "text": [
      "*** For the field status ***\n",
      "\n",
      "Unique values:\n",
      " ['Closed' 'Active' 'Dormant' 'Unfunded' 'Restricted' 'Locked' 'Incomplete']\n",
      "\n",
      "The value counts are:\n",
      "Active        46256\n",
      "Closed         7751\n",
      "Dormant        1970\n",
      "Unfunded        348\n",
      "Restricted      247\n",
      "Locked          100\n",
      "Incomplete        4\n",
      "Name: status, dtype: int64\n",
      "\n",
      "Count of NULL status values: 0\n",
      "Count of NA status values: 0\n",
      "Plot out Values\n"
     ]
    },
    {
     "data": {
      "text/plain": "<Figure size 2160x720 with 1 Axes>",
      "image/png": "[encoded data removed]"
     },
     "metadata": {},
     "output_type": "display_data"
    }
   ],
   "source": [
    "check_catVar('status')"
   ],
   "metadata": {
    "collapsed": false,
    "pycharm": {
     "name": "#%%\n"
    }
   }
  },
  {
   "cell_type": "code",
   "execution_count": 223,
   "outputs": [],
   "source": [
    "# How does 'status' correlates with 'cos'?"
   ],
   "metadata": {
    "collapsed": false,
    "pycharm": {
     "name": "#%%\n"
    }
   }
  },
  {
   "cell_type": "code",
   "execution_count": 224,
   "outputs": [
    {
     "data": {
      "text/plain": "status  Active  Closed  Dormant  Incomplete  Locked  Restricted  Unfunded\ncos                                                                      \n0        46256    7235     1970           4     100         247       348\n1            0     516        0           0       0           0         0",
      "text/html": "<div>\n<style scoped>\n    .dataframe tbody tr th:only-of-type {\n        vertical-align: middle;\n    }\n\n    .dataframe tbody tr th {\n        vertical-align: top;\n    }\n\n    .dataframe thead th {\n        text-align: right;\n    }\n</style>\n<table border=\"1\" class=\"dataframe\">\n  <thead>\n    <tr style=\"text-align: right;\">\n      <th>status</th>\n      <th>Active</th>\n      <th>Closed</th>\n      <th>Dormant</th>\n      <th>Incomplete</th>\n      <th>Locked</th>\n      <th>Restricted</th>\n      <th>Unfunded</th>\n    </tr>\n    <tr>\n      <th>cos</th>\n      <th></th>\n      <th></th>\n      <th></th>\n      <th></th>\n      <th></th>\n      <th></th>\n      <th></th>\n    </tr>\n  </thead>\n  <tbody>\n    <tr>\n      <th>0</th>\n      <td>46256</td>\n      <td>7235</td>\n      <td>1970</td>\n      <td>4</td>\n      <td>100</td>\n      <td>247</td>\n      <td>348</td>\n    </tr>\n    <tr>\n      <th>1</th>\n      <td>0</td>\n      <td>516</td>\n      <td>0</td>\n      <td>0</td>\n      <td>0</td>\n      <td>0</td>\n      <td>0</td>\n    </tr>\n  </tbody>\n</table>\n</div>"
     },
     "execution_count": 224,
     "metadata": {},
     "output_type": "execute_result"
    }
   ],
   "source": [
    "pd.crosstab(data['cos'],data['status'])\n"
   ],
   "metadata": {
    "collapsed": false,
    "pycharm": {
     "name": "#%%\n"
    }
   }
  },
  {
   "cell_type": "markdown",
   "source": [
    "Discussion on STATUS field:\n",
    "All cos positive accounts are closed. Not all closed account are positive 'cos'.\n",
    "516/7235 = 0.071, or %7.1 are closed and cos positive."
   ],
   "metadata": {
    "collapsed": false,
    "pycharm": {
     "name": "#%% md\n"
    }
   }
  },
  {
   "cell_type": "markdown",
   "source": [
    "* **\n",
    "***\n",
    "## <span style=\"color:red\">2: LOAN</span>\n",
    "### Does account have any loan product associated with it?\n",
    "***"
   ],
   "metadata": {
    "collapsed": false,
    "pycharm": {
     "name": "#%% md\n"
    }
   }
  },
  {
   "cell_type": "code",
   "execution_count": 225,
   "metadata": {
    "pycharm": {
     "name": "#%%\n"
    }
   },
   "outputs": [
    {
     "name": "stdout",
     "output_type": "stream",
     "text": [
      "*** For the field loan ***\n",
      "\n",
      "Unique values:\n",
      " [0 1]\n",
      "\n",
      "The value counts are:\n",
      "0    40300\n",
      "1    16376\n",
      "Name: loan, dtype: int64\n",
      "\n",
      "Count of NULL loan values: 0\n",
      "Count of NA loan values: 0\n",
      "Plot out Values\n"
     ]
    },
    {
     "data": {
      "text/plain": "<Figure size 2160x720 with 1 Axes>",
      "image/png": "[encoded data removed]"
     },
     "metadata": {},
     "output_type": "display_data"
    }
   ],
   "source": [
    "check_catVar('loan')"
   ]
  },
  {
   "cell_type": "code",
   "execution_count": 226,
   "outputs": [
    {
     "name": "stdout",
     "output_type": "stream",
     "text": [
      "0    40300\n",
      "1    16376\n",
      "Name: loan, dtype: int64\n",
      "\n",
      "\n",
      "NORMALIZE BY BIN, OR PORTION OF CHARGE-OFFS.\n",
      "loan         0         1\n",
      "cos                     \n",
      "0     0.987643  0.998901\n",
      "1     0.012357  0.001099\n",
      "\n",
      "NORMALIZE BY ROW, OR PORTION OF MEMBERS.\n",
      "loan         0         1\n",
      "cos                     \n",
      "0     0.708725  0.291275\n",
      "1     0.965116  0.034884\n",
      "\n",
      "DIRECT COUNTS.\n",
      "loan      0      1\n",
      "cos               \n",
      "0     39802  16358\n",
      "1       498     18\n"
     ]
    }
   ],
   "source": [
    "CrossTabCheck('loan')"
   ],
   "metadata": {
    "collapsed": false,
    "pycharm": {
     "name": "#%%\n"
    }
   }
  },
  {
   "cell_type": "markdown",
   "source": [
    "***\n",
    "### Calculations done on excel spreadsheet (not shown here)\n",
    "#### P(cos yes | loan=1)\t    0.00110\n",
    "#### P(cos yes | loan=0)\t    0.01236 (no loan associated with account)\n",
    "\n",
    "### Feature Transform? None."
   ],
   "metadata": {
    "collapsed": false,
    "pycharm": {
     "name": "#%% md\n"
    }
   }
  },
  {
   "cell_type": "markdown",
   "source": [
    "* **\n",
    "***\n",
    "## <span style=\"color:red\">3: S_PLUS_C</span>\n",
    "### Is account just savings, or savings and checking?\n",
    "***"
   ],
   "metadata": {
    "collapsed": false,
    "pycharm": {
     "name": "#%% md\n"
    }
   }
  },
  {
   "cell_type": "code",
   "execution_count": 227,
   "metadata": {
    "pycharm": {
     "name": "#%%\n"
    }
   },
   "outputs": [
    {
     "name": "stdout",
     "output_type": "stream",
     "text": [
      "*** For the field s_plus_c ***\n",
      "\n",
      "Unique values:\n",
      " [0 1]\n",
      "\n",
      "The value counts are:\n",
      "1    37776\n",
      "0    18900\n",
      "Name: s_plus_c, dtype: int64\n",
      "\n",
      "Count of NULL s_plus_c values: 0\n",
      "Count of NA s_plus_c values: 0\n",
      "Plot out Values\n"
     ]
    },
    {
     "data": {
      "text/plain": "<Figure size 2160x720 with 1 Axes>",
      "image/png": "[encoded data removed]"
     },
     "metadata": {},
     "output_type": "display_data"
    }
   ],
   "source": [
    "check_catVar('s_plus_c')"
   ]
  },
  {
   "cell_type": "code",
   "execution_count": 228,
   "outputs": [
    {
     "name": "stdout",
     "output_type": "stream",
     "text": [
      "1    37776\n",
      "0    18900\n",
      "Name: s_plus_c, dtype: int64\n",
      "\n",
      "\n",
      "NORMALIZE BY BIN, OR PORTION OF CHARGE-OFFS.\n",
      "s_plus_c         0         1\n",
      "cos                         \n",
      "0         0.995397  0.988644\n",
      "1         0.004603  0.011356\n",
      "\n",
      "NORMALIZE BY ROW, OR PORTION OF MEMBERS.\n",
      "s_plus_c         0         1\n",
      "cos                         \n",
      "0         0.334989  0.665011\n",
      "1         0.168605  0.831395\n",
      "\n",
      "DIRECT COUNTS.\n",
      "s_plus_c      0      1\n",
      "cos                   \n",
      "0         18813  37347\n",
      "1            87    429\n"
     ]
    }
   ],
   "source": [
    "# Cross Tab with target field.\n",
    "CrossTabCheck('s_plus_c')"
   ],
   "metadata": {
    "collapsed": false,
    "pycharm": {
     "name": "#%%\n"
    }
   }
  },
  {
   "cell_type": "markdown",
   "source": [
    "***\n",
    "### Calculations outside of this notebook (not shown here)\n",
    "#### Prob(cos yes  |  s_plus_c = 1)\t=  0.011356717\n",
    "#### Prob(cos yes  |  s_plus_c = 0)\t=  0.004603175\n",
    "#### If an account has a checking account, it is much more likely to result in charge off than saving alone.\n",
    "#### Feature Transform: None"
   ],
   "metadata": {
    "collapsed": false,
    "pycharm": {
     "name": "#%% md\n"
    }
   }
  },
  {
   "cell_type": "markdown",
   "source": [
    "* **\n",
    "***\n",
    "## <span style=\"color:red\">4: NTRIGGERS</span>\n",
    "### Number of alerts from other financial institutions.\n",
    "***"
   ],
   "metadata": {
    "collapsed": false,
    "pycharm": {
     "name": "#%% md\n"
    }
   }
  },
  {
   "cell_type": "code",
   "execution_count": 229,
   "metadata": {
    "pycharm": {
     "name": "#%%\n"
    }
   },
   "outputs": [
    {
     "name": "stdout",
     "output_type": "stream",
     "text": [
      "*** For the field ntriggers ***\n",
      "\n",
      "Unique values:\n",
      " [ 0  2  7  3  6  8  9  1  4  5 16 11 12 10 13 14 15 18 21 17 20]\n",
      "\n",
      "The value counts are:\n",
      "0     49487\n",
      "1      2192\n",
      "2      1403\n",
      "3       890\n",
      "4       801\n",
      "5       621\n",
      "6       379\n",
      "7       293\n",
      "8       189\n",
      "9       146\n",
      "10       70\n",
      "11       67\n",
      "12       53\n",
      "13       23\n",
      "14       22\n",
      "16       14\n",
      "15       10\n",
      "18        9\n",
      "21        3\n",
      "17        2\n",
      "20        2\n",
      "Name: ntriggers, dtype: int64\n",
      "\n",
      "Count of NULL ntriggers values: 0\n",
      "Count of NA ntriggers values: 0\n",
      "Plot out Values\n"
     ]
    },
    {
     "data": {
      "text/plain": "<Figure size 2160x720 with 1 Axes>",
      "image/png": "[encoded data removed]"
     },
     "metadata": {},
     "output_type": "display_data"
    }
   ],
   "source": [
    "check_catVar('ntriggers')"
   ]
  },
  {
   "cell_type": "code",
   "execution_count": 230,
   "outputs": [
    {
     "name": "stdout",
     "output_type": "stream",
     "text": [
      "ntriggers     0     1     2    3    4    5    6    7    8    9   ...  11  12  \\\n",
      "cos                                                              ...           \n",
      "0          49303  2118  1330  829  755  589  360  283  182  141  ...  64  52   \n",
      "1            184    74    73   61   46   32   19   10    7    5  ...   3   1   \n",
      "\n",
      "ntriggers  13  14  15  16  17  18  20  21  \n",
      "cos                                        \n",
      "0          23  22  10  13   2   9   2   3  \n",
      "1           0   0   0   1   0   0   0   0  \n",
      "\n",
      "[2 rows x 21 columns]\n"
     ]
    }
   ],
   "source": [
    "# Cross Tab with Target Varaible\n",
    "ct_cos_ntriggers = pd.crosstab(data['cos'],data['ntriggers'])\n",
    "print(ct_cos_ntriggers)"
   ],
   "metadata": {
    "collapsed": false,
    "pycharm": {
     "name": "#%%\n"
    }
   }
  },
  {
   "cell_type": "code",
   "execution_count": 231,
   "outputs": [
    {
     "name": "stdout",
     "output_type": "stream",
     "text": [
      "nt_zero     49487\n",
      "nt_large     4997\n",
      "nt_small     2192\n",
      "Name: ntriggers_bin, dtype: int64\n",
      "\n",
      "\n",
      "NORMALIZE BY BIN, OR PORTION OF CHARGE-OFFS.\n",
      "ntriggers_bin  nt_large  nt_small   nt_zero\n",
      "cos                                        \n",
      "0              0.948369  0.966241  0.996282\n",
      "1              0.051631  0.033759  0.003718\n",
      "\n",
      "NORMALIZE BY ROW, OR PORTION OF MEMBERS.\n",
      "ntriggers_bin  nt_large  nt_small   nt_zero\n",
      "cos                                        \n",
      "0              0.084384  0.037714  0.877902\n",
      "1              0.500000  0.143411  0.356589\n",
      "\n",
      "DIRECT COUNTS.\n",
      "ntriggers_bin  nt_large  nt_small  nt_zero\n",
      "cos                                       \n",
      "0                  4739      2118    49303\n",
      "1                   258        74      184\n"
     ]
    }
   ],
   "source": [
    "def bin_ntriggers(x):\n",
    "    if x==0:\n",
    "        return \"nt_zero\"\n",
    "    if x<2:\n",
    "        return \"nt_small\"\n",
    "    else:\n",
    "        return \"nt_large\"\n",
    "\n",
    "data['ntriggers_bin'] = data['ntriggers'].apply(bin_ntriggers)\n",
    "\n",
    "CrossTabCheck('ntriggers_bin')\n"
   ],
   "metadata": {
    "collapsed": false,
    "pycharm": {
     "name": "#%%\n"
    }
   }
  },
  {
   "cell_type": "markdown",
   "source": [
    "***\n",
    "### Feature Transform: Bin into nt_zero, nt_small, nt_large"
   ],
   "metadata": {
    "collapsed": false,
    "pycharm": {
     "name": "#%% md\n"
    }
   }
  },
  {
   "cell_type": "markdown",
   "source": [
    "* **\n",
    "***\n",
    "## <span style=\"color:red\">5: NUM_TIMES_NEG</span>\n",
    "### Number of time the account went negative.\n",
    "***"
   ],
   "metadata": {
    "collapsed": false,
    "pycharm": {
     "name": "#%% md\n"
    }
   }
  },
  {
   "cell_type": "code",
   "execution_count": 232,
   "metadata": {
    "pycharm": {
     "name": "#%%\n"
    }
   },
   "outputs": [
    {
     "name": "stdout",
     "output_type": "stream",
     "text": [
      "*** For the field num_times_neg ***\n",
      "\n",
      "Unique values:\n",
      " [  0   1  12   3   6  25   2   5   7   8  30  58   9  31   4  14  43  11\n",
      "  39  10  27  15  19  17  41  36  24  18  34  22  37  28  13  29  42  59\n",
      "  16  56  35  21  67  60  48  33  38  26  20  47  94  65  32  74  23  69\n",
      "  53  49  51  45  62  44  68  64 132  77  92  82  40  50 107  61  57  79\n",
      "  81  75  83  63  66  78  80  46  54  52  55]\n",
      "\n",
      "The value counts are:\n",
      "0     50376\n",
      "1      1933\n",
      "2       952\n",
      "3       595\n",
      "4       398\n",
      "      ...  \n",
      "80        1\n",
      "94        1\n",
      "54        1\n",
      "52        1\n",
      "55        1\n",
      "Name: num_times_neg, Length: 83, dtype: int64\n",
      "\n",
      "Count of NULL num_times_neg values: 0\n",
      "Count of NA num_times_neg values: 0\n",
      "Plot out Values\n"
     ]
    },
    {
     "data": {
      "text/plain": "<Figure size 2160x720 with 1 Axes>",
      "image/png": "[encoded data removed]"
     },
     "metadata": {},
     "output_type": "display_data"
    }
   ],
   "source": [
    "check_catVar('num_times_neg')"
   ]
  },
  {
   "cell_type": "code",
   "execution_count": 233,
   "outputs": [
    {
     "name": "stdout",
     "output_type": "stream",
     "text": [
      "num_times_neg    0     1    2    3    4    5    6    7    8    9    ...  78   \\\n",
      "cos                                                                 ...        \n",
      "0              50283  1842  877  550  374  276  227  192  171  153  ...    1   \n",
      "1                 93    91   75   45   24   16   21   15   14   15  ...    0   \n",
      "\n",
      "num_times_neg  79   80   81   82   83   92   94   107  132  \n",
      "cos                                                         \n",
      "0                1    1    1    2    2    1    1    1    1  \n",
      "1                0    0    0    0    0    0    0    0    0  \n",
      "\n",
      "[2 rows x 83 columns]\n"
     ]
    }
   ],
   "source": [
    "# Cross Tab with Target Variable\n",
    "ct_cos_numtimeneg = pd.crosstab(data['cos'],data['num_times_neg'])\n",
    "print(ct_cos_numtimeneg)"
   ],
   "metadata": {
    "collapsed": false,
    "pycharm": {
     "name": "#%%\n"
    }
   }
  },
  {
   "cell_type": "code",
   "execution_count": 234,
   "outputs": [],
   "source": [
    "# Bin values to make them statistically significant.\n",
    "data['num_times_neg_bin'] = pd.cut(data['num_times_neg'], bins=(0, 2, 25, 26, 49, 300),\n",
    "                                  labels=['bin1', 'bin2', 'bin3', 'bin4', 'bin5'], right=False, include_lowest=True,\n",
    "                                  ordered=False)"
   ],
   "metadata": {
    "collapsed": false,
    "pycharm": {
     "name": "#%%\n"
    }
   }
  },
  {
   "cell_type": "code",
   "execution_count": 235,
   "outputs": [
    {
     "name": "stdout",
     "output_type": "stream",
     "text": [
      "bin1    52309\n",
      "bin2     3981\n",
      "bin4      287\n",
      "bin5       75\n",
      "bin3       24\n",
      "Name: num_times_neg_bin, dtype: int64\n",
      "\n",
      "\n",
      "NORMALIZE BY BIN, OR PORTION OF CHARGE-OFFS.\n",
      "num_times_neg_bin      bin1      bin2   bin3      bin4      bin5\n",
      "cos                                                             \n",
      "0                  0.996482  0.925898  0.875  0.898955  0.933333\n",
      "1                  0.003518  0.074102  0.125  0.101045  0.066667\n",
      "\n",
      "NORMALIZE BY ROW, OR PORTION OF MEMBERS.\n",
      "num_times_neg_bin      bin1      bin2      bin3      bin4      bin5\n",
      "cos                                                                \n",
      "0                  0.928152  0.065634  0.000374  0.004594  0.001246\n",
      "1                  0.356589  0.571705  0.005814  0.056202  0.009690\n",
      "\n",
      "DIRECT COUNTS.\n",
      "num_times_neg_bin   bin1  bin2  bin3  bin4  bin5\n",
      "cos                                             \n",
      "0                  52125  3686    21   258    70\n",
      "1                    184   295     3    29     5\n"
     ]
    }
   ],
   "source": [
    "CrossTabCheck('num_times_neg_bin')"
   ],
   "metadata": {
    "collapsed": false,
    "pycharm": {
     "name": "#%%\n"
    }
   }
  },
  {
   "cell_type": "markdown",
   "source": [
    "* **\n",
    "***\n",
    "## <span style=\"color:red\">6: MAX_DAYS_NEG</span>\n",
    "### Maximum consecutive days account was negative.\n",
    "***"
   ],
   "metadata": {
    "collapsed": false,
    "pycharm": {
     "name": "#%% md\n"
    }
   }
  },
  {
   "cell_type": "code",
   "execution_count": 236,
   "outputs": [
    {
     "name": "stdout",
     "output_type": "stream",
     "text": [
      "*** For the field max_days_neg ***\n",
      "\n",
      "Unique values:\n",
      " [  0   1  74   6   7   5  53   9   2  12  11  33   3  29  31  10  21  36\n",
      "  15  17  59  43  18  38  37   4  42  13  30  85  62  68  39  14  67  23\n",
      "   8  26  41  45  56  49  32  88  57  28  34  27  16  93  66 135  91  48\n",
      " 114  71  22  25  72  69 110  61 138 133  81  19  24  65  89  35  83 134\n",
      " 111  54  95 108  20  40 137  75  78 376  47 121 131 141 147  46  64 100\n",
      "  58 102  87 127  55  70  86 129 106  82 105 119  52 101  51  60  63 120\n",
      "  44  98  76 132 124  99 113 116  92  50  73 123 115  94 109  79 118  90\n",
      " 145 122 146 136 112  77 107  84  96 103 125 117 104 130 128  80 126]\n",
      "\n",
      "The value counts are:\n",
      "0      50376\n",
      "1       1059\n",
      "2       1042\n",
      "3        665\n",
      "4        377\n",
      "       ...  \n",
      "136        1\n",
      "146        1\n",
      "145        1\n",
      "132        1\n",
      "134        1\n",
      "Name: max_days_neg, Length: 143, dtype: int64\n",
      "\n",
      "Count of NULL max_days_neg values: 0\n",
      "Count of NA max_days_neg values: 0\n",
      "Plot out Values\n"
     ]
    },
    {
     "data": {
      "text/plain": "<Figure size 2160x720 with 1 Axes>",
      "image/png": "[encoded data removed]"
     },
     "metadata": {},
     "output_type": "display_data"
    }
   ],
   "source": [
    "check_catVar('max_days_neg')"
   ],
   "metadata": {
    "collapsed": false,
    "pycharm": {
     "name": "#%%\n"
    }
   }
  },
  {
   "cell_type": "code",
   "execution_count": 237,
   "outputs": [
    {
     "name": "stdout",
     "output_type": "stream",
     "text": [
      "bin1    51435\n",
      "bin3     2338\n",
      "bin2     2084\n",
      "bin4      732\n",
      "bin5       87\n",
      "Name: max_days_neg_bin, dtype: int64\n",
      "\n",
      "\n",
      "NORMALIZE BY BIN, OR PORTION OF CHARGE-OFFS.\n",
      "max_days_neg_bin      bin1     bin2      bin3     bin4      bin5\n",
      "cos                                                             \n",
      "0                 0.997259  0.96785  0.918734  0.85929  0.827586\n",
      "1                 0.002741  0.03215  0.081266  0.14071  0.172414\n",
      "\n",
      "NORMALIZE BY ROW, OR PORTION OF MEMBERS.\n",
      "max_days_neg_bin      bin1      bin2      bin3      bin4      bin5\n",
      "cos                                                               \n",
      "0                 0.913355  0.035915  0.038248  0.011200  0.001282\n",
      "1                 0.273256  0.129845  0.368217  0.199612  0.029070\n",
      "\n",
      "DIRECT COUNTS.\n",
      "max_days_neg_bin   bin1  bin2  bin3  bin4  bin5\n",
      "cos                                            \n",
      "0                 51294  2017  2148   629    72\n",
      "1                   141    67   190   103    15\n"
     ]
    }
   ],
   "source": [
    "# Using Excel, inspect how max_days_neg field correlates with charged-off accounts.\n",
    "# Modeling tactic: bin the values of max_days_neg to create statistical significance.\n",
    "\n",
    "def bin_max_days_neg(x):\n",
    "    if 0 <= x < 2:\n",
    "        return 'bin1'\n",
    "    if 2 <= x < 5:\n",
    "        return 'bin2'\n",
    "    if 5 <= x < 30:\n",
    "        return 'bin3'\n",
    "    if 30 <= x < 110:\n",
    "        return 'bin4'\n",
    "    else:\n",
    "        return 'bin5'\n",
    "\n",
    "data['max_days_neg_bin'] = data['max_days_neg'].apply(bin_max_days_neg)\n",
    "\n",
    "CrossTabCheck('max_days_neg_bin')"
   ],
   "metadata": {
    "collapsed": false,
    "pycharm": {
     "name": "#%%\n"
    }
   }
  },
  {
   "cell_type": "markdown",
   "source": [
    "Note on the transformation:\n",
    "Use function bin_max_days_neg() to increase statistical significance and prevent over-fitting."
   ],
   "metadata": {
    "collapsed": false,
    "pycharm": {
     "name": "#%% md\n"
    }
   }
  },
  {
   "cell_type": "markdown",
   "source": [
    "* **\n",
    "***\n",
    "## <span style=\"color:red\">7: RIM_AGE</span>\n",
    "### Age of the accout owner's membership in months\n",
    "***"
   ],
   "metadata": {
    "collapsed": false,
    "pycharm": {
     "name": "#%% md\n"
    }
   }
  },
  {
   "cell_type": "code",
   "execution_count": 238,
   "outputs": [
    {
     "name": "stdout",
     "output_type": "stream",
     "text": [
      "\n",
      "Count of NULL rim_age values: 0\n",
      "Count of NA rim_age values: 0\n",
      "Max value of rim_age: 42\n",
      "Min value of rim_age: 0\n",
      "Type of value <class 'numpy.ndarray'>\n",
      "Random sample of values:\n",
      " 30769    36\n",
      "22687    19\n",
      "38020     9\n",
      "55407     1\n",
      "41508     0\n",
      "13512    10\n",
      "33441    34\n",
      "3656     35\n",
      "33666    34\n",
      "28705    38\n",
      "Name: rim_age, dtype: int64\n"
     ]
    }
   ],
   "source": [
    "check_contVar('rim_age')"
   ],
   "metadata": {
    "collapsed": false,
    "pycharm": {
     "name": "#%%\n"
    }
   }
  },
  {
   "cell_type": "code",
   "execution_count": 239,
   "outputs": [
    {
     "data": {
      "text/plain": "<Figure size 432x288 with 1 Axes>",
      "image/png": "[encoded data removed]"
     },
     "metadata": {},
     "output_type": "display_data"
    }
   ],
   "source": [
    "plt.hist(data['rim_age'], bins=42)\n",
    "plt.rcParams['figure.figsize'] = (30,10)\n",
    "plt.show()"
   ],
   "metadata": {
    "collapsed": false,
    "pycharm": {
     "name": "#%%\n"
    }
   }
  },
  {
   "cell_type": "code",
   "execution_count": 240,
   "outputs": [
    {
     "data": {
      "text/plain": "<Figure size 2160x720 with 1 Axes>",
      "image/png": "[encoded data removed]"
     },
     "metadata": {},
     "output_type": "display_data"
    }
   ],
   "source": [
    "# what is the distribution of rim_age among those that have COS?\n",
    "data_cosPOS = data[data['cos'].values == 1].copy(deep=True)\n",
    "plt.hist(data_cosPOS['rim_age'], bins=42)\n",
    "plt.rcParams['figure.figsize'] = (30,10)\n",
    "plt.show()"
   ],
   "metadata": {
    "collapsed": false,
    "pycharm": {
     "name": "#%%\n"
    }
   }
  },
  {
   "cell_type": "code",
   "execution_count": 241,
   "outputs": [
    {
     "data": {
      "text/plain": "<Figure size 2160x720 with 1 Axes>",
      "image/png": "[encoded data removed]"
     },
     "metadata": {},
     "output_type": "display_data"
    }
   ],
   "source": [
    "max_month = max(data['rim_age'])\n",
    "\n",
    "def reverse_rim_age(x):\n",
    "    return max_month - x\n",
    "\n",
    "data['rim_age_reverse'] = data['rim_age'].apply(reverse_rim_age)\n",
    "\n",
    "data_cosPOS = data[data['cos'].values == 1].copy(deep=True)\n",
    "plt.hist(data_cosPOS['rim_age_reverse'], bins=42)\n",
    "plt.rcParams['figure.figsize'] = (30,10)\n",
    "plt.show()"
   ],
   "metadata": {
    "collapsed": false,
    "pycharm": {
     "name": "#%%\n"
    }
   }
  },
  {
   "cell_type": "markdown",
   "source": [
    "The distribution of rim_age with COS is counter to what we would expect. I wonder if the age value has been reversed. Test when the rim_age values are reversed.\n",
    "Possible transform: f(rim_age) = max(rim_age) - rim_age"
   ],
   "metadata": {
    "collapsed": false,
    "pycharm": {
     "name": "#%% md\n"
    }
   }
  },
  {
   "cell_type": "markdown",
   "source": [
    "* **\n",
    "***\n",
    "## <span style=\"color:red\">8: CK_RETURNS</span>\n",
    "### Number of returned checks since Jan. 2017\n",
    "***"
   ],
   "metadata": {
    "collapsed": false,
    "pycharm": {
     "name": "#%% md\n"
    }
   }
  },
  {
   "cell_type": "code",
   "execution_count": 242,
   "outputs": [
    {
     "name": "stdout",
     "output_type": "stream",
     "text": [
      "\n",
      "Count of NULL ck_returns values: 55841\n",
      "Count of NA ck_returns values: 55841\n",
      "Max value of ck_returns: 11.0\n",
      "Min value of ck_returns: 1.0\n",
      "Type of value <class 'numpy.ndarray'>\n",
      "Random sample of values:\n",
      " 32537   NaN\n",
      "21534   NaN\n",
      "6819    NaN\n",
      "55445   NaN\n",
      "22480   NaN\n",
      "17144   NaN\n",
      "31424   NaN\n",
      "44341   NaN\n",
      "16548   NaN\n",
      "14284   NaN\n",
      "Name: ck_returns, dtype: float64\n"
     ]
    }
   ],
   "source": [
    "check_contVar('ck_returns')"
   ],
   "metadata": {
    "collapsed": false,
    "pycharm": {
     "name": "#%%\n"
    }
   }
  },
  {
   "cell_type": "code",
   "execution_count": 243,
   "outputs": [],
   "source": [
    "data['ck_returns'] = data['ck_returns'].fillna(0)"
   ],
   "metadata": {
    "collapsed": false,
    "pycharm": {
     "name": "#%%\n"
    }
   }
  },
  {
   "cell_type": "code",
   "execution_count": 244,
   "outputs": [
    {
     "name": "stdout",
     "output_type": "stream",
     "text": [
      "\n",
      "Count of NULL ck_returns values: 0\n",
      "Count of NA ck_returns values: 0\n",
      "Max value of ck_returns: 11.0\n",
      "Min value of ck_returns: 0.0\n",
      "Type of value <class 'numpy.ndarray'>\n",
      "Random sample of values:\n",
      " 43154    0.0\n",
      "34775    0.0\n",
      "3897     0.0\n",
      "39716    0.0\n",
      "10139    0.0\n",
      "53227    0.0\n",
      "12609    0.0\n",
      "14051    0.0\n",
      "8905     0.0\n",
      "22669    0.0\n",
      "Name: ck_returns, dtype: float64\n"
     ]
    }
   ],
   "source": [
    "check_contVar(\"ck_returns\")"
   ],
   "metadata": {
    "collapsed": false,
    "pycharm": {
     "name": "#%%\n"
    }
   }
  },
  {
   "cell_type": "code",
   "execution_count": 245,
   "outputs": [
    {
     "data": {
      "text/plain": "<Figure size 2160x720 with 1 Axes>",
      "image/png": "[encoded data removed]"
     },
     "metadata": {},
     "output_type": "display_data"
    }
   ],
   "source": [
    "plt.hist(data['ck_returns'], bins=42)\n",
    "plt.rcParams['figure.figsize'] = (30,10)\n",
    "plt.show()"
   ],
   "metadata": {
    "collapsed": false,
    "pycharm": {
     "name": "#%%\n"
    }
   }
  },
  {
   "cell_type": "code",
   "execution_count": 246,
   "outputs": [
    {
     "data": {
      "text/plain": "22       1.0\n24       2.0\n26       3.0\n27       1.0\n34       4.0\n        ... \n55835    1.0\n55836    1.0\n55888    1.0\n55935    1.0\n56153    1.0\nName: ck_returns, Length: 835, dtype: float64"
     },
     "execution_count": 246,
     "metadata": {},
     "output_type": "execute_result"
    }
   ],
   "source": [
    "tmp = data[data['ck_returns'] != 0]\n",
    "tmp['ck_returns']"
   ],
   "metadata": {
    "collapsed": false,
    "pycharm": {
     "name": "#%%\n"
    }
   }
  },
  {
   "cell_type": "code",
   "execution_count": 247,
   "outputs": [
    {
     "name": "stdout",
     "output_type": "stream",
     "text": [
      "bin1    55841\n",
      "bin2      646\n",
      "bin3      177\n",
      "bin4       12\n",
      "Name: ck_returns_bin, dtype: int64\n",
      "\n",
      "\n",
      "NORMALIZE BY BIN, OR PORTION OF CHARGE-OFFS.\n",
      "ck_returns_bin      bin1      bin2      bin3      bin4\n",
      "cos                                                   \n",
      "0               0.992246  0.928793  0.813559  0.666667\n",
      "1               0.007754  0.071207  0.186441  0.333333\n",
      "\n",
      "NORMALIZE BY ROW, OR PORTION OF MEMBERS.\n",
      "ck_returns_bin      bin1      bin2      bin3      bin4\n",
      "cos                                                   \n",
      "0               0.986610  0.010684  0.002564  0.000142\n",
      "1               0.839147  0.089147  0.063953  0.007752\n",
      "\n",
      "DIRECT COUNTS.\n",
      "ck_returns_bin   bin1  bin2  bin3  bin4\n",
      "cos                                    \n",
      "0               55408   600   144     8\n",
      "1                 433    46    33     4\n"
     ]
    }
   ],
   "source": [
    "def bin_ckreturns(x):\n",
    "    if x==0:\n",
    "        return 'bin1'\n",
    "    if 1<=x<2:\n",
    "        return 'bin2'\n",
    "    if 2<=x<7:\n",
    "        return 'bin3'\n",
    "    if x>=7:\n",
    "        return 'bin4'\n",
    "\n",
    "data['ck_returns_bin'] = data['ck_returns'].apply(bin_ckreturns)\n",
    "CrossTabCheck('ck_returns_bin')\n"
   ],
   "metadata": {
    "collapsed": false,
    "pycharm": {
     "name": "#%%\n"
    }
   }
  },
  {
   "cell_type": "markdown",
   "source": [
    "* **\n",
    "***\n",
    "## <span style=\"color:red\">9: FICO_B</span>\n",
    "### FICO credit score\n",
    "***"
   ],
   "metadata": {
    "collapsed": false,
    "pycharm": {
     "name": "#%% md\n"
    }
   }
  },
  {
   "cell_type": "code",
   "execution_count": 248,
   "outputs": [
    {
     "name": "stdout",
     "output_type": "stream",
     "text": [
      "\n",
      "Count of NULL fico_b values: 0\n",
      "Count of NA fico_b values: 0\n",
      "Max value of fico_b: 844\n",
      "Min value of fico_b: 0\n",
      "Type of value <class 'numpy.ndarray'>\n",
      "Random sample of values:\n",
      " 27595      0\n",
      "9801       0\n",
      "53546      0\n",
      "32051      0\n",
      "7163     707\n",
      "37009    528\n",
      "25436    745\n",
      "10050      0\n",
      "31246    560\n",
      "33174    813\n",
      "Name: fico_b, dtype: int64\n"
     ]
    }
   ],
   "source": [
    "check_contVar(\"fico_b\")"
   ],
   "metadata": {
    "collapsed": false,
    "pycharm": {
     "name": "#%%\n"
    }
   }
  },
  {
   "cell_type": "code",
   "execution_count": 249,
   "outputs": [
    {
     "data": {
      "text/plain": "<Figure size 2160x720 with 1 Axes>",
      "image/png": "[encoded data removed]"
     },
     "metadata": {},
     "output_type": "display_data"
    }
   ],
   "source": [
    "plt.hist(data['fico_b'], bins=100)\n",
    "plt.rcParams['figure.figsize'] = (30,10)\n",
    "plt.show()"
   ],
   "metadata": {
    "collapsed": false,
    "pycharm": {
     "name": "#%%\n"
    }
   }
  },
  {
   "cell_type": "code",
   "execution_count": 250,
   "outputs": [
    {
     "data": {
      "text/plain": "<Figure size 2160x720 with 1 Axes>",
      "image/png": "[encoded data removed]"
     },
     "metadata": {},
     "output_type": "display_data"
    }
   ],
   "source": [
    "# what is the distribution of rim_age among those that have COS?\n",
    "data_cosPOS = data[data['cos'].values == 1].copy(deep=True)\n",
    "plt.hist(data_cosPOS['fico_b'], bins=100)\n",
    "plt.rcParams['figure.figsize'] = (30,10)\n",
    "plt.show()"
   ],
   "metadata": {
    "collapsed": false,
    "pycharm": {
     "name": "#%%\n"
    }
   }
  },
  {
   "cell_type": "code",
   "execution_count": 251,
   "outputs": [
    {
     "name": "stdout",
     "output_type": "stream",
     "text": [
      "Count of FICO scores = 0:  15795\n",
      "Count of FICO scores = 0 AND COS positive:  19\n"
     ]
    }
   ],
   "source": [
    "# How many fico scores are 0?\n",
    "COSall_FICO_Zero = data[data['fico_b'] == 0]\n",
    "print(\"Count of FICO scores = 0: \", COSall_FICO_Zero.shape[0])\n",
    "COSpos_FICO_Zero = data[(data['fico_b'] == 0) & (data['cos'] == 1)]\n",
    "print(\"Count of FICO scores = 0 AND COS positive: \", COSpos_FICO_Zero.shape[0])"
   ],
   "metadata": {
    "collapsed": false,
    "pycharm": {
     "name": "#%%\n"
    }
   }
  },
  {
   "cell_type": "code",
   "execution_count": 252,
   "outputs": [
    {
     "name": "stdout",
     "output_type": "stream",
     "text": [
      "bin7    27565\n",
      "bin1    15795\n",
      "bin5     6065\n",
      "bin6     2598\n",
      "bin4     2356\n",
      "bin3     1977\n",
      "bin2      320\n",
      "Name: fico_bin, dtype: int64\n",
      "\n",
      "\n",
      "NORMALIZE BY BIN, OR PORTION OF CHARGE-OFFS.\n",
      "fico_bin      bin1     bin2      bin3      bin4      bin5      bin6      bin7\n",
      "cos                                                                          \n",
      "0         0.998797  0.88125  0.909459  0.938031  0.983347  0.997306  0.999057\n",
      "1         0.001203  0.11875  0.090541  0.061969  0.016653  0.002694  0.000943\n",
      "\n",
      "NORMALIZE BY ROW, OR PORTION OF MEMBERS.\n",
      "fico_bin      bin1      bin2      bin3      bin4      bin5      bin6      bin7\n",
      "cos                                                                           \n",
      "0         0.280912  0.005021  0.032016  0.039352  0.106197  0.046136  0.490367\n",
      "1         0.036822  0.073643  0.346899  0.282946  0.195736  0.013566  0.050388\n",
      "\n",
      "DIRECT COUNTS.\n",
      "fico_bin   bin1  bin2  bin3  bin4  bin5  bin6   bin7\n",
      "cos                                                 \n",
      "0         15776   282  1798  2210  5964  2591  27539\n",
      "1            19    38   179   146   101     7     26\n"
     ]
    }
   ],
   "source": [
    "def fico_bin_f(x):\n",
    "    bin = 'bin0'\n",
    "    if x==0:\n",
    "        bin = 'bin1'\n",
    "    if 0 < x < 480:\n",
    "        bin = 'bin2'\n",
    "    if 480 <= x < 550:\n",
    "        bin = 'bin3'\n",
    "    if 550 <= x < 600:\n",
    "        bin = 'bin4'\n",
    "    if 600 <= x < 680:\n",
    "        bin = 'bin5'\n",
    "    if 680 <= x < 740:\n",
    "        bin = 'bin6'\n",
    "    if 700 <= x:\n",
    "        bin = 'bin7'\n",
    "    return bin\n",
    "\n",
    "data['fico_bin'] = data['fico_b'].apply(fico_bin_f)\n",
    "\n",
    "CrossTabCheck('fico_bin')"
   ],
   "metadata": {
    "collapsed": false,
    "pycharm": {
     "name": "#%%\n"
    }
   }
  },
  {
   "cell_type": "markdown",
   "source": [
    "Fico_b needs to be binned to make the results more statistical significant."
   ],
   "metadata": {
    "collapsed": false,
    "pycharm": {
     "name": "#%% md\n"
    }
   }
  },
  {
   "cell_type": "markdown",
   "source": [
    "* **\n",
    "***\n",
    "## <span style=\"color:red\">10 and 11: AVG_BAL6 and AVG_BAL3</span>\n",
    "### Rolling 6-month/3-month deposit amount\n",
    "***"
   ],
   "metadata": {
    "collapsed": false,
    "pycharm": {
     "name": "#%% md\n"
    }
   }
  },
  {
   "cell_type": "code",
   "execution_count": 253,
   "outputs": [
    {
     "name": "stdout",
     "output_type": "stream",
     "text": [
      "\n",
      "Count of NULL avg_bal6 values: 5450\n",
      "Count of NA avg_bal6 values: 5450\n",
      "Max value of avg_bal6: 1708350.0\n",
      "Min value of avg_bal6: -4674.0\n",
      "Type of value <class 'numpy.ndarray'>\n",
      "Random sample of values:\n",
      " 4486     157008.0\n",
      "11279        19.0\n",
      "52843        30.0\n",
      "14988      3238.0\n",
      "56098         NaN\n",
      "32037      1624.0\n",
      "32709      5223.0\n",
      "34354         5.0\n",
      "15144        13.0\n",
      "12995     55437.0\n",
      "Name: avg_bal6, dtype: float64\n"
     ]
    }
   ],
   "source": [
    "check_contVar('avg_bal6')"
   ],
   "metadata": {
    "collapsed": false,
    "pycharm": {
     "name": "#%%\n"
    }
   }
  },
  {
   "cell_type": "code",
   "execution_count": 254,
   "outputs": [
    {
     "name": "stdout",
     "output_type": "stream",
     "text": [
      "\n",
      "Count of NULL avg_bal6 values: 0\n",
      "Count of NA avg_bal6 values: 0\n",
      "Max value of avg_bal6: 1708350.0\n",
      "Min value of avg_bal6: -4674.0\n",
      "Type of value <class 'numpy.ndarray'>\n",
      "Random sample of values:\n",
      " 48387        20.0\n",
      "8029          5.0\n",
      "28983        -4.0\n",
      "7770        329.0\n",
      "31463         0.0\n",
      "12991      3889.0\n",
      "49665       241.0\n",
      "45963    115714.0\n",
      "37957       950.0\n",
      "20037        20.0\n",
      "Name: avg_bal6, dtype: float64\n",
      "\n",
      "Count of NULL avg_bal3 values: 0\n",
      "Count of NA avg_bal3 values: 0\n",
      "Max value of avg_bal3: 1748436.0\n",
      "Min value of avg_bal3: -6230.0\n",
      "Type of value <class 'numpy.ndarray'>\n",
      "Random sample of values:\n",
      " 49767       24.0\n",
      "31847     7180.0\n",
      "52142    17282.0\n",
      "45288       29.0\n",
      "45616     6111.0\n",
      "43514        0.0\n",
      "20224     5429.0\n",
      "35679    19224.0\n",
      "16822       25.0\n",
      "2433     36602.0\n",
      "Name: avg_bal3, dtype: float64\n"
     ]
    }
   ],
   "source": [
    "# Consider NA or missing values as 0.\n",
    "data['avg_bal6'] = data['avg_bal6'].fillna(0)\n",
    "data['avg_bal3'] = data['avg_bal3'].fillna(0)\n",
    "check_contVar('avg_bal6')\n",
    "check_contVar('avg_bal3')"
   ],
   "metadata": {
    "collapsed": false,
    "pycharm": {
     "name": "#%%\n"
    }
   }
  },
  {
   "cell_type": "code",
   "execution_count": 255,
   "outputs": [
    {
     "data": {
      "text/plain": "<Figure size 2160x720 with 1 Axes>",
      "image/png": "[encoded data removed]"
     },
     "metadata": {},
     "output_type": "display_data"
    }
   ],
   "source": [
    "plt.hist(data['avg_bal6'], bins=300)\n",
    "plt.rcParams['figure.figsize'] = (30,10)\n",
    "plt.show()"
   ],
   "metadata": {
    "collapsed": false,
    "pycharm": {
     "name": "#%%\n"
    }
   }
  },
  {
   "cell_type": "code",
   "execution_count": 256,
   "outputs": [],
   "source": [
    "# Binning avg_bal6, avg_bal3\n",
    "def bin(x):\n",
    "    if x<0:\n",
    "        return \"negative\"\n",
    "    if x==0:\n",
    "        return 'zero'\n",
    "    else:\n",
    "        return 'positive'\n",
    "\n",
    "data['avg_bal6_binned'] = data['avg_bal6'].apply(bin)\n",
    "data['avg_bal3_binned'] = data['avg_bal3'].apply(bin)"
   ],
   "metadata": {
    "collapsed": false,
    "pycharm": {
     "name": "#%%\n"
    }
   }
  },
  {
   "cell_type": "code",
   "execution_count": 257,
   "outputs": [
    {
     "name": "stdout",
     "output_type": "stream",
     "text": [
      "positive    50505\n",
      "zero         5821\n",
      "negative      350\n",
      "Name: avg_bal6_binned, dtype: int64\n",
      "\n",
      "\n",
      "NORMALIZE BY BIN, OR PORTION OF CHARGE-OFFS.\n",
      "avg_bal6_binned  negative  positive      zero\n",
      "cos                                          \n",
      "0                    0.76  0.999485  0.930253\n",
      "1                    0.24  0.000515  0.069747\n",
      "\n",
      "NORMALIZE BY ROW, OR PORTION OF MEMBERS.\n",
      "avg_bal6_binned  negative  positive      zero\n",
      "cos                                          \n",
      "0                0.004736  0.898843  0.096421\n",
      "1                0.162791  0.050388  0.786822\n",
      "\n",
      "DIRECT COUNTS.\n",
      "avg_bal6_binned  negative  positive  zero\n",
      "cos                                      \n",
      "0                     266     50479  5415\n",
      "1                      84        26   406\n"
     ]
    }
   ],
   "source": [
    "field = 'avg_bal6_binned'\n",
    "\n",
    "print(data[field].value_counts())\n",
    "print(\"\\n\")\n",
    "\n",
    "print(\"Normalize by bin, or portion of charge-offs.\".upper())\n",
    "ct1 = pd.crosstab(data['cos'], data[field]).apply(lambda r:r/r.sum(), axis=0)\n",
    "print(ct1)\n",
    "\n",
    "print(\"\\nNormalize by row, or portion of members.\".upper())\n",
    "ct2 = pd.crosstab(data['cos'], data[field]).apply(lambda r:r/r.sum(), axis=1)\n",
    "print(ct2)\n",
    "\n",
    "print(\"\\nDirect Counts.\".upper())\n",
    "ct3 = pd.crosstab(data['cos'], data[field])\n",
    "print(ct3)"
   ],
   "metadata": {
    "collapsed": false,
    "pycharm": {
     "name": "#%%\n"
    }
   }
  },
  {
   "cell_type": "markdown",
   "source": [],
   "metadata": {
    "collapsed": false
   }
  },
  {
   "cell_type": "code",
   "execution_count": 258,
   "outputs": [
    {
     "name": "stdout",
     "output_type": "stream",
     "text": [
      "positive    49828\n",
      "zero         6498\n",
      "negative      350\n",
      "Name: avg_bal3_binned, dtype: int64\n",
      "\n",
      "\n",
      "NORMALIZE BY BIN, OR PORTION OF CHARGE-OFFS.\n",
      "avg_bal3_binned  negative  positive      zero\n",
      "cos                                          \n",
      "0                    0.86  0.999378  0.932902\n",
      "1                    0.14  0.000622  0.067098\n",
      "\n",
      "NORMALIZE BY ROW, OR PORTION OF MEMBERS.\n",
      "avg_bal3_binned  negative  positive      zero\n",
      "cos                                          \n",
      "0                0.005360  0.886699  0.107942\n",
      "1                0.094961  0.060078  0.844961\n",
      "\n",
      "DIRECT COUNTS.\n",
      "avg_bal3_binned  negative  positive  zero\n",
      "cos                                      \n",
      "0                     301     49797  6062\n",
      "1                      49        31   436\n"
     ]
    }
   ],
   "source": [
    "CrossTabCheck(\"avg_bal3_binned\")"
   ],
   "metadata": {
    "collapsed": false,
    "pycharm": {
     "name": "#%%\n"
    }
   }
  },
  {
   "cell_type": "code",
   "execution_count": 259,
   "outputs": [
    {
     "data": {
      "text/plain": "Index(['account_id', 'status', 'cos', 'rim_age', 'loan', 's_plus_c', 'fico_b',\n       'ck_returns', 'max_days_neg', 'num_times_neg', 'ntriggers', 'avg_bal6',\n       'avg_bal3', 'ntriggers_bin', 'num_times_neg_bin', 'max_days_neg_bin',\n       'rim_age_reverse', 'ck_returns_bin', 'fico_bin', 'avg_bal6_binned',\n       'avg_bal3_binned'],\n      dtype='object')"
     },
     "execution_count": 259,
     "metadata": {},
     "output_type": "execute_result"
    }
   ],
   "source": [
    "data.columns"
   ],
   "metadata": {
    "collapsed": false,
    "pycharm": {
     "name": "#%%\n"
    }
   }
  },
  {
   "cell_type": "code",
   "execution_count": 260,
   "outputs": [],
   "source": [
    "# Output\n",
    "\n",
    "data.to_csv(\"data_with_features.csv\")"
   ],
   "metadata": {
    "collapsed": false,
    "pycharm": {
     "name": "#%%\n"
    }
   }
  },
  {
   "cell_type": "code",
   "execution_count": 260,
   "outputs": [],
   "source": [],
   "metadata": {
    "collapsed": false,
    "pycharm": {
     "name": "#%%\n"
    }
   }
  }
 ],
 "metadata": {
  "kernelspec": {
   "display_name": "Python 3 (ipykernel)",
   "language": "python",
   "name": "python3"
  },
  "language_info": {
   "codemirror_mode": {
    "name": "ipython",
    "version": 3
   },
   "file_extension": ".py",
   "mimetype": "text/x-python",
   "name": "python",
   "nbconvert_exporter": "python",
   "pygments_lexer": "ipython3",
   "version": "3.8.8"
  }
 },
 "nbformat": 4,
 "nbformat_minor": 1
}