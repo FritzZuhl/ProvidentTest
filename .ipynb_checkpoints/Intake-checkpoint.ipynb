{
 "cells": [
  {
   "cell_type": "markdown",
   "metadata": {},
   "source": [
    "# Part 1 - Exploratory Data Analysis"
   ]
  },
  {
   "cell_type": "code",
   "execution_count": 3,
   "metadata": {},
   "outputs": [],
   "source": [
    "# Importing required libraries.\n",
    "import pandas as pd\n",
    "import numpy as np\n",
    "import seaborn as sns #visualisation\n",
    "import matplotlib.pyplot as plt #visualisation\n",
    "%matplotlib inline\n",
    "sns.set(color_codes=True)"
   ]
  },
  {
   "cell_type": "markdown",
   "metadata": {
    "pycharm": {
     "name": "#%% md\n"
    }
   },
   "source": [
    "### Read in the data\n",
    "#### Cursory Review of data as a whole"
   ]
  },
  {
   "cell_type": "code",
   "execution_count": 4,
   "metadata": {
    "pycharm": {
     "name": "#%%\n"
    }
   },
   "outputs": [],
   "source": [
    "data = pd.read_csv(\"mrm5_model_data.csv\")"
   ]
  },
  {
   "cell_type": "code",
   "execution_count": 5,
   "metadata": {
    "pycharm": {
     "name": "#%%\n"
    }
   },
   "outputs": [
    {
     "data": {
      "text/plain": [
       "(56676, 13)"
      ]
     },
     "execution_count": 5,
     "metadata": {},
     "output_type": "execute_result"
    }
   ],
   "source": [
    "data.shape"
   ]
  },
  {
   "cell_type": "code",
   "execution_count": 6,
   "metadata": {
    "pycharm": {
     "name": "#%%\n"
    }
   },
   "outputs": [
    {
     "data": {
      "text/html": [
       "<div>\n",
       "<style scoped>\n",
       "    .dataframe tbody tr th:only-of-type {\n",
       "        vertical-align: middle;\n",
       "    }\n",
       "\n",
       "    .dataframe tbody tr th {\n",
       "        vertical-align: top;\n",
       "    }\n",
       "\n",
       "    .dataframe thead th {\n",
       "        text-align: right;\n",
       "    }\n",
       "</style>\n",
       "<table border=\"1\" class=\"dataframe\">\n",
       "  <thead>\n",
       "    <tr style=\"text-align: right;\">\n",
       "      <th></th>\n",
       "      <th>cos</th>\n",
       "      <th>rim_age</th>\n",
       "      <th>loan</th>\n",
       "      <th>s_plus_c</th>\n",
       "      <th>fico_b</th>\n",
       "      <th>ck_returns</th>\n",
       "      <th>max_days_neg</th>\n",
       "      <th>num_times_neg</th>\n",
       "      <th>ntriggers</th>\n",
       "      <th>avg_bal6</th>\n",
       "      <th>avg_bal3</th>\n",
       "    </tr>\n",
       "  </thead>\n",
       "  <tbody>\n",
       "    <tr>\n",
       "      <th>count</th>\n",
       "      <td>56676.000000</td>\n",
       "      <td>56676.000000</td>\n",
       "      <td>56676.000000</td>\n",
       "      <td>56676.000000</td>\n",
       "      <td>56676.000000</td>\n",
       "      <td>835.000000</td>\n",
       "      <td>56676.000000</td>\n",
       "      <td>56676.000000</td>\n",
       "      <td>56676.000000</td>\n",
       "      <td>5.122600e+04</td>\n",
       "      <td>5.039600e+04</td>\n",
       "    </tr>\n",
       "    <tr>\n",
       "      <th>mean</th>\n",
       "      <td>0.009104</td>\n",
       "      <td>21.966088</td>\n",
       "      <td>0.288941</td>\n",
       "      <td>0.666526</td>\n",
       "      <td>519.410932</td>\n",
       "      <td>1.450299</td>\n",
       "      <td>1.530454</td>\n",
       "      <td>0.772285</td>\n",
       "      <td>0.431947</td>\n",
       "      <td>1.474701e+04</td>\n",
       "      <td>1.606729e+04</td>\n",
       "    </tr>\n",
       "    <tr>\n",
       "      <th>std</th>\n",
       "      <td>0.094982</td>\n",
       "      <td>12.395577</td>\n",
       "      <td>0.453274</td>\n",
       "      <td>0.471459</td>\n",
       "      <td>330.750199</td>\n",
       "      <td>1.142533</td>\n",
       "      <td>8.795420</td>\n",
       "      <td>4.069600</td>\n",
       "      <td>1.502197</td>\n",
       "      <td>5.145974e+04</td>\n",
       "      <td>5.677016e+04</td>\n",
       "    </tr>\n",
       "    <tr>\n",
       "      <th>min</th>\n",
       "      <td>0.000000</td>\n",
       "      <td>0.000000</td>\n",
       "      <td>0.000000</td>\n",
       "      <td>0.000000</td>\n",
       "      <td>0.000000</td>\n",
       "      <td>1.000000</td>\n",
       "      <td>0.000000</td>\n",
       "      <td>0.000000</td>\n",
       "      <td>0.000000</td>\n",
       "      <td>-4.674000e+03</td>\n",
       "      <td>-6.230000e+03</td>\n",
       "    </tr>\n",
       "    <tr>\n",
       "      <th>25%</th>\n",
       "      <td>0.000000</td>\n",
       "      <td>11.000000</td>\n",
       "      <td>0.000000</td>\n",
       "      <td>0.000000</td>\n",
       "      <td>0.000000</td>\n",
       "      <td>1.000000</td>\n",
       "      <td>0.000000</td>\n",
       "      <td>0.000000</td>\n",
       "      <td>0.000000</td>\n",
       "      <td>5.300000e+01</td>\n",
       "      <td>4.900000e+01</td>\n",
       "    </tr>\n",
       "    <tr>\n",
       "      <th>50%</th>\n",
       "      <td>0.000000</td>\n",
       "      <td>22.000000</td>\n",
       "      <td>0.000000</td>\n",
       "      <td>1.000000</td>\n",
       "      <td>694.000000</td>\n",
       "      <td>1.000000</td>\n",
       "      <td>0.000000</td>\n",
       "      <td>0.000000</td>\n",
       "      <td>0.000000</td>\n",
       "      <td>1.036000e+03</td>\n",
       "      <td>1.107000e+03</td>\n",
       "    </tr>\n",
       "    <tr>\n",
       "      <th>75%</th>\n",
       "      <td>0.000000</td>\n",
       "      <td>33.000000</td>\n",
       "      <td>1.000000</td>\n",
       "      <td>1.000000</td>\n",
       "      <td>771.000000</td>\n",
       "      <td>1.000000</td>\n",
       "      <td>0.000000</td>\n",
       "      <td>0.000000</td>\n",
       "      <td>0.000000</td>\n",
       "      <td>8.356500e+03</td>\n",
       "      <td>9.405000e+03</td>\n",
       "    </tr>\n",
       "    <tr>\n",
       "      <th>max</th>\n",
       "      <td>1.000000</td>\n",
       "      <td>42.000000</td>\n",
       "      <td>1.000000</td>\n",
       "      <td>1.000000</td>\n",
       "      <td>844.000000</td>\n",
       "      <td>11.000000</td>\n",
       "      <td>376.000000</td>\n",
       "      <td>132.000000</td>\n",
       "      <td>21.000000</td>\n",
       "      <td>1.708350e+06</td>\n",
       "      <td>1.748436e+06</td>\n",
       "    </tr>\n",
       "  </tbody>\n",
       "</table>\n",
       "</div>"
      ],
      "text/plain": [
       "                cos       rim_age          loan      s_plus_c        fico_b  \\\n",
       "count  56676.000000  56676.000000  56676.000000  56676.000000  56676.000000   \n",
       "mean       0.009104     21.966088      0.288941      0.666526    519.410932   \n",
       "std        0.094982     12.395577      0.453274      0.471459    330.750199   \n",
       "min        0.000000      0.000000      0.000000      0.000000      0.000000   \n",
       "25%        0.000000     11.000000      0.000000      0.000000      0.000000   \n",
       "50%        0.000000     22.000000      0.000000      1.000000    694.000000   \n",
       "75%        0.000000     33.000000      1.000000      1.000000    771.000000   \n",
       "max        1.000000     42.000000      1.000000      1.000000    844.000000   \n",
       "\n",
       "       ck_returns  max_days_neg  num_times_neg     ntriggers      avg_bal6  \\\n",
       "count  835.000000  56676.000000   56676.000000  56676.000000  5.122600e+04   \n",
       "mean     1.450299      1.530454       0.772285      0.431947  1.474701e+04   \n",
       "std      1.142533      8.795420       4.069600      1.502197  5.145974e+04   \n",
       "min      1.000000      0.000000       0.000000      0.000000 -4.674000e+03   \n",
       "25%      1.000000      0.000000       0.000000      0.000000  5.300000e+01   \n",
       "50%      1.000000      0.000000       0.000000      0.000000  1.036000e+03   \n",
       "75%      1.000000      0.000000       0.000000      0.000000  8.356500e+03   \n",
       "max     11.000000    376.000000     132.000000     21.000000  1.708350e+06   \n",
       "\n",
       "           avg_bal3  \n",
       "count  5.039600e+04  \n",
       "mean   1.606729e+04  \n",
       "std    5.677016e+04  \n",
       "min   -6.230000e+03  \n",
       "25%    4.900000e+01  \n",
       "50%    1.107000e+03  \n",
       "75%    9.405000e+03  \n",
       "max    1.748436e+06  "
      ]
     },
     "execution_count": 6,
     "metadata": {},
     "output_type": "execute_result"
    }
   ],
   "source": [
    "data.describe()"
   ]
  },
  {
   "cell_type": "code",
   "execution_count": 7,
   "metadata": {
    "pycharm": {
     "name": "#%%\n"
    }
   },
   "outputs": [
    {
     "data": {
      "text/plain": [
       "Index(['account_id', 'status', 'cos', 'rim_age', 'loan', 's_plus_c', 'fico_b',\n",
       "       'ck_returns', 'max_days_neg', 'num_times_neg', 'ntriggers', 'avg_bal6',\n",
       "       'avg_bal3'],\n",
       "      dtype='object')"
      ]
     },
     "execution_count": 7,
     "metadata": {},
     "output_type": "execute_result"
    }
   ],
   "source": [
    "data.columns"
   ]
  },
  {
   "cell_type": "code",
   "execution_count": 8,
   "metadata": {
    "pycharm": {
     "name": "#%%\n"
    }
   },
   "outputs": [
    {
     "data": {
      "text/html": [
       "<div>\n",
       "<style scoped>\n",
       "    .dataframe tbody tr th:only-of-type {\n",
       "        vertical-align: middle;\n",
       "    }\n",
       "\n",
       "    .dataframe tbody tr th {\n",
       "        vertical-align: top;\n",
       "    }\n",
       "\n",
       "    .dataframe thead th {\n",
       "        text-align: right;\n",
       "    }\n",
       "</style>\n",
       "<table border=\"1\" class=\"dataframe\">\n",
       "  <thead>\n",
       "    <tr style=\"text-align: right;\">\n",
       "      <th></th>\n",
       "      <th>account_id</th>\n",
       "      <th>status</th>\n",
       "      <th>cos</th>\n",
       "      <th>rim_age</th>\n",
       "      <th>loan</th>\n",
       "      <th>s_plus_c</th>\n",
       "      <th>fico_b</th>\n",
       "      <th>ck_returns</th>\n",
       "      <th>max_days_neg</th>\n",
       "      <th>num_times_neg</th>\n",
       "      <th>ntriggers</th>\n",
       "      <th>avg_bal6</th>\n",
       "      <th>avg_bal3</th>\n",
       "    </tr>\n",
       "  </thead>\n",
       "  <tbody>\n",
       "    <tr>\n",
       "      <th>0</th>\n",
       "      <td>FjWHEBLtghQ7</td>\n",
       "      <td>Closed</td>\n",
       "      <td>1</td>\n",
       "      <td>4</td>\n",
       "      <td>0</td>\n",
       "      <td>0</td>\n",
       "      <td>761</td>\n",
       "      <td>NaN</td>\n",
       "      <td>0</td>\n",
       "      <td>0</td>\n",
       "      <td>0</td>\n",
       "      <td>NaN</td>\n",
       "      <td>NaN</td>\n",
       "    </tr>\n",
       "    <tr>\n",
       "      <th>1</th>\n",
       "      <td>NY9sb3zWSC7L</td>\n",
       "      <td>Closed</td>\n",
       "      <td>1</td>\n",
       "      <td>41</td>\n",
       "      <td>0</td>\n",
       "      <td>1</td>\n",
       "      <td>766</td>\n",
       "      <td>NaN</td>\n",
       "      <td>0</td>\n",
       "      <td>0</td>\n",
       "      <td>0</td>\n",
       "      <td>NaN</td>\n",
       "      <td>NaN</td>\n",
       "    </tr>\n",
       "    <tr>\n",
       "      <th>2</th>\n",
       "      <td>CsgsApaKRyUc</td>\n",
       "      <td>Closed</td>\n",
       "      <td>1</td>\n",
       "      <td>42</td>\n",
       "      <td>0</td>\n",
       "      <td>1</td>\n",
       "      <td>636</td>\n",
       "      <td>NaN</td>\n",
       "      <td>1</td>\n",
       "      <td>1</td>\n",
       "      <td>2</td>\n",
       "      <td>NaN</td>\n",
       "      <td>NaN</td>\n",
       "    </tr>\n",
       "    <tr>\n",
       "      <th>3</th>\n",
       "      <td>xtDoVry22KCc</td>\n",
       "      <td>Closed</td>\n",
       "      <td>1</td>\n",
       "      <td>42</td>\n",
       "      <td>0</td>\n",
       "      <td>1</td>\n",
       "      <td>507</td>\n",
       "      <td>NaN</td>\n",
       "      <td>74</td>\n",
       "      <td>12</td>\n",
       "      <td>7</td>\n",
       "      <td>NaN</td>\n",
       "      <td>NaN</td>\n",
       "    </tr>\n",
       "    <tr>\n",
       "      <th>4</th>\n",
       "      <td>AY1ULa7dimU5</td>\n",
       "      <td>Closed</td>\n",
       "      <td>1</td>\n",
       "      <td>41</td>\n",
       "      <td>0</td>\n",
       "      <td>1</td>\n",
       "      <td>471</td>\n",
       "      <td>NaN</td>\n",
       "      <td>1</td>\n",
       "      <td>3</td>\n",
       "      <td>2</td>\n",
       "      <td>NaN</td>\n",
       "      <td>NaN</td>\n",
       "    </tr>\n",
       "  </tbody>\n",
       "</table>\n",
       "</div>"
      ],
      "text/plain": [
       "     account_id  status  cos  rim_age  loan  s_plus_c  fico_b  ck_returns  \\\n",
       "0  FjWHEBLtghQ7  Closed    1        4     0         0     761         NaN   \n",
       "1  NY9sb3zWSC7L  Closed    1       41     0         1     766         NaN   \n",
       "2  CsgsApaKRyUc  Closed    1       42     0         1     636         NaN   \n",
       "3  xtDoVry22KCc  Closed    1       42     0         1     507         NaN   \n",
       "4  AY1ULa7dimU5  Closed    1       41     0         1     471         NaN   \n",
       "\n",
       "   max_days_neg  num_times_neg  ntriggers  avg_bal6  avg_bal3  \n",
       "0             0              0          0       NaN       NaN  \n",
       "1             0              0          0       NaN       NaN  \n",
       "2             1              1          2       NaN       NaN  \n",
       "3            74             12          7       NaN       NaN  \n",
       "4             1              3          2       NaN       NaN  "
      ]
     },
     "execution_count": 8,
     "metadata": {},
     "output_type": "execute_result"
    }
   ],
   "source": [
    "data.head()"
   ]
  },
  {
   "cell_type": "code",
   "execution_count": 9,
   "metadata": {
    "pycharm": {
     "name": "#%%\n"
    }
   },
   "outputs": [
    {
     "data": {
      "text/html": [
       "<div>\n",
       "<style scoped>\n",
       "    .dataframe tbody tr th:only-of-type {\n",
       "        vertical-align: middle;\n",
       "    }\n",
       "\n",
       "    .dataframe tbody tr th {\n",
       "        vertical-align: top;\n",
       "    }\n",
       "\n",
       "    .dataframe thead th {\n",
       "        text-align: right;\n",
       "    }\n",
       "</style>\n",
       "<table border=\"1\" class=\"dataframe\">\n",
       "  <thead>\n",
       "    <tr style=\"text-align: right;\">\n",
       "      <th></th>\n",
       "      <th>account_id</th>\n",
       "      <th>status</th>\n",
       "      <th>cos</th>\n",
       "      <th>rim_age</th>\n",
       "      <th>loan</th>\n",
       "      <th>s_plus_c</th>\n",
       "      <th>fico_b</th>\n",
       "      <th>ck_returns</th>\n",
       "      <th>max_days_neg</th>\n",
       "      <th>num_times_neg</th>\n",
       "      <th>ntriggers</th>\n",
       "      <th>avg_bal6</th>\n",
       "      <th>avg_bal3</th>\n",
       "    </tr>\n",
       "  </thead>\n",
       "  <tbody>\n",
       "    <tr>\n",
       "      <th>56671</th>\n",
       "      <td>klCLOY2EycCd</td>\n",
       "      <td>Active</td>\n",
       "      <td>0</td>\n",
       "      <td>0</td>\n",
       "      <td>0</td>\n",
       "      <td>1</td>\n",
       "      <td>0</td>\n",
       "      <td>NaN</td>\n",
       "      <td>0</td>\n",
       "      <td>0</td>\n",
       "      <td>0</td>\n",
       "      <td>NaN</td>\n",
       "      <td>NaN</td>\n",
       "    </tr>\n",
       "    <tr>\n",
       "      <th>56672</th>\n",
       "      <td>Gj3ta4BAqFC6</td>\n",
       "      <td>Active</td>\n",
       "      <td>0</td>\n",
       "      <td>0</td>\n",
       "      <td>1</td>\n",
       "      <td>0</td>\n",
       "      <td>0</td>\n",
       "      <td>NaN</td>\n",
       "      <td>0</td>\n",
       "      <td>0</td>\n",
       "      <td>0</td>\n",
       "      <td>NaN</td>\n",
       "      <td>NaN</td>\n",
       "    </tr>\n",
       "    <tr>\n",
       "      <th>56673</th>\n",
       "      <td>TyrkQdxcDaJU</td>\n",
       "      <td>Active</td>\n",
       "      <td>0</td>\n",
       "      <td>0</td>\n",
       "      <td>0</td>\n",
       "      <td>0</td>\n",
       "      <td>0</td>\n",
       "      <td>NaN</td>\n",
       "      <td>0</td>\n",
       "      <td>0</td>\n",
       "      <td>0</td>\n",
       "      <td>NaN</td>\n",
       "      <td>NaN</td>\n",
       "    </tr>\n",
       "    <tr>\n",
       "      <th>56674</th>\n",
       "      <td>u5SzVvhz1S3U</td>\n",
       "      <td>Active</td>\n",
       "      <td>0</td>\n",
       "      <td>0</td>\n",
       "      <td>0</td>\n",
       "      <td>1</td>\n",
       "      <td>0</td>\n",
       "      <td>NaN</td>\n",
       "      <td>0</td>\n",
       "      <td>0</td>\n",
       "      <td>0</td>\n",
       "      <td>NaN</td>\n",
       "      <td>NaN</td>\n",
       "    </tr>\n",
       "    <tr>\n",
       "      <th>56675</th>\n",
       "      <td>HbCPuxsnV1de</td>\n",
       "      <td>Active</td>\n",
       "      <td>0</td>\n",
       "      <td>0</td>\n",
       "      <td>0</td>\n",
       "      <td>1</td>\n",
       "      <td>0</td>\n",
       "      <td>NaN</td>\n",
       "      <td>0</td>\n",
       "      <td>0</td>\n",
       "      <td>0</td>\n",
       "      <td>NaN</td>\n",
       "      <td>NaN</td>\n",
       "    </tr>\n",
       "  </tbody>\n",
       "</table>\n",
       "</div>"
      ],
      "text/plain": [
       "         account_id  status  cos  rim_age  loan  s_plus_c  fico_b  ck_returns  \\\n",
       "56671  klCLOY2EycCd  Active    0        0     0         1       0         NaN   \n",
       "56672  Gj3ta4BAqFC6  Active    0        0     1         0       0         NaN   \n",
       "56673  TyrkQdxcDaJU  Active    0        0     0         0       0         NaN   \n",
       "56674  u5SzVvhz1S3U  Active    0        0     0         1       0         NaN   \n",
       "56675  HbCPuxsnV1de  Active    0        0     0         1       0         NaN   \n",
       "\n",
       "       max_days_neg  num_times_neg  ntriggers  avg_bal6  avg_bal3  \n",
       "56671             0              0          0       NaN       NaN  \n",
       "56672             0              0          0       NaN       NaN  \n",
       "56673             0              0          0       NaN       NaN  \n",
       "56674             0              0          0       NaN       NaN  \n",
       "56675             0              0          0       NaN       NaN  "
      ]
     },
     "execution_count": 9,
     "metadata": {},
     "output_type": "execute_result"
    }
   ],
   "source": [
    "data.tail()"
   ]
  },
  {
   "cell_type": "code",
   "execution_count": 11,
   "metadata": {
    "pycharm": {
     "name": "#%%\n"
    }
   },
   "outputs": [
    {
     "name": "stdout",
     "output_type": "stream",
     "text": [
      "<class 'pandas.core.frame.DataFrame'>\n",
      "RangeIndex: 56676 entries, 0 to 56675\n",
      "Data columns (total 13 columns):\n",
      " #   Column         Non-Null Count  Dtype  \n",
      "---  ------         --------------  -----  \n",
      " 0   account_id     56676 non-null  object \n",
      " 1   status         56676 non-null  object \n",
      " 2   cos            56676 non-null  int64  \n",
      " 3   rim_age        56676 non-null  int64  \n",
      " 4   loan           56676 non-null  int64  \n",
      " 5   s_plus_c       56676 non-null  int64  \n",
      " 6   fico_b         56676 non-null  int64  \n",
      " 7   ck_returns     835 non-null    float64\n",
      " 8   max_days_neg   56676 non-null  int64  \n",
      " 9   num_times_neg  56676 non-null  int64  \n",
      " 10  ntriggers      56676 non-null  int64  \n",
      " 11  avg_bal6       51226 non-null  float64\n",
      " 12  avg_bal3       50396 non-null  float64\n",
      "dtypes: float64(3), int64(8), object(2)\n",
      "memory usage: 5.6+ MB\n"
     ]
    }
   ],
   "source": [
    "data.info()"
   ]
  },
  {
   "cell_type": "markdown",
   "metadata": {
    "pycharm": {
     "name": "#%% md\n"
    }
   },
   "source": [
    "## Looking at the Varibles - Exploratory Data Analysis\n",
    "### Categorical Variable: account_id, status, cos, loan, s_plus_c, ntriggers, num_times_neg"
   ]
  },
  {
   "cell_type": "code",
   "execution_count": null,
   "metadata": {},
   "outputs": [],
   "source": []
  },
  {
   "cell_type": "code",
   "execution_count": 50,
   "metadata": {
    "pycharm": {
     "name": "#%%\n"
    }
   },
   "outputs": [],
   "source": [
    "# Helper Functions\n",
    "import matplotlib.pyplot as plt\n",
    "\n",
    "def plot_catVar(var_name):\n",
    "    valueCounts = data[var_name].value_counts()\n",
    "    ind = list(valueCounts.index)\n",
    "    val = list(valueCounts.values)\n",
    "    fig = plt.figure(figsize=(10, 5))\n",
    "    plt.bar(ind, val, color='blue', width=0.4)\n",
    "    plt.ylabel(\"Counts\")\n",
    "    plt.xlabel(var_name.upper())\n",
    "    plt.title(\"Counts of {} values\".format(var_name.upper()))\n",
    "    plt.show()\n",
    "    \n",
    "\n",
    "def check_catVar(var_name):\n",
    "    unique_values = data[var_name].unique()\n",
    "    valueCounts = data[var_name].value_counts()\n",
    "    print(\"*** For the field {} ***\".format(var_name))\n",
    "    print(\"\\nUnique values:\\n\", unique_values)\n",
    "    print(\"\\nThe value counts are:\")\n",
    "    print(valueCounts)\n",
    "    print(\"\\nCount of NULL {} values:\".format(var_name), data[var_name].isnull().sum())\n",
    "    print(\"Count of NA {} values:\".format(var_name), data[var_name].isna().sum())\n",
    "    print(\"Plot out Values\")\n",
    "    plot_catVar(var_name)"
   ]
  },
  {
   "cell_type": "markdown",
   "metadata": {
    "pycharm": {
     "name": "#%% md\n"
    }
   },
   "source": [
    "#### Dependent Variable: cos"
   ]
  },
  {
   "cell_type": "code",
   "execution_count": 51,
   "metadata": {
    "pycharm": {
     "name": "#%%\n"
    }
   },
   "outputs": [
    {
     "name": "stdout",
     "output_type": "stream",
     "text": [
      "*** For the field cos ***\n",
      "\n",
      "Unique values:\n",
      " [1 0]\n",
      "\n",
      "The value counts are:\n",
      "0    56160\n",
      "1      516\n",
      "Name: cos, dtype: int64\n",
      "\n",
      "Count of NULL cos values: 0\n",
      "Count of NA cos values: 0\n",
      "Plot out Values\n"
     ]
    },
    {
     "data": {
      "image/png": "[encoded data removed]",
      "text/plain": [
       "<Figure size 720x360 with 1 Axes>"
      ]
     },
     "metadata": {},
     "output_type": "display_data"
    },
    {
     "name": "stdout",
     "output_type": "stream",
     "text": [
      "Positive targets: 516\n",
      "Negative targets: 56160\n",
      "Portion of data with positive targets:  0.009104382807537581\n"
     ]
    }
   ],
   "source": [
    "check_catVar('cos')\n",
    "# Balance of labeled data:\n",
    "cnts = data['cos'].value_counts()\n",
    "print(\"Positive targets:\", cnts[1])\n",
    "print(\"Negative targets:\", cnts[0])\n",
    "print(\"Portion of data with positive targets: \", cnts[1]/(cnts[0]+cnts[1]))"
   ]
  },
  {
   "cell_type": "code",
   "execution_count": 15,
   "metadata": {
    "pycharm": {
     "name": "#%%\n"
    }
   },
   "outputs": [
    {
     "name": "stdout",
     "output_type": "stream",
     "text": [
      "Number of duplicate account_id:  0\n",
      "Number of missing account_id: 0\n"
     ]
    }
   ],
   "source": [
    "# Independent Field: account_id\n",
    "# is account_id unique and complete?\n",
    "dups = data['account_id'].duplicated()\n",
    "print(\"Number of duplicate account_id: \", dups.sum())\n",
    "# Finding NULL values\n",
    "print(\"Number of missing account_id:\", data[\"account_id\"].isnull().sum())"
   ]
  },
  {
   "cell_type": "code",
   "execution_count": 24,
   "metadata": {
    "pycharm": {
     "name": "#%%\n"
    }
   },
   "outputs": [
    {
     "name": "stdout",
     "output_type": "stream",
     "text": [
      "*** For the field loan ***\n",
      "\n",
      "Unique values:\n",
      " [0 1]\n",
      "\n",
      "The value counts are:\n",
      "0    40300\n",
      "1    16376\n",
      "Name: loan, dtype: int64\n",
      "\n",
      "Count of NULL loan values: 0\n",
      "Count of NA loan values: 0\n",
      "Plot out Values\n"
     ]
    },
    {
     "data": {
      "image/png": "[encoded data removed]",
      "text/plain": [
       "<Figure size 432x288 with 1 Axes>"
      ]
     },
     "metadata": {},
     "output_type": "display_data"
    }
   ],
   "source": [
    "# Independent Value: 'loan'\n",
    "#\n",
    "check_catVar('loan')"
   ]
  },
  {
   "cell_type": "code",
   "execution_count": 17,
   "metadata": {
    "pycharm": {
     "name": "#%%\n"
    }
   },
   "outputs": [
    {
     "name": "stdout",
     "output_type": "stream",
     "text": [
      "*** For the field s_plus_c ***\n",
      "\n",
      "Unique values:\n",
      " [0 1]\n",
      "\n",
      "The value counts are:\n",
      "1    37776\n",
      "0    18900\n",
      "Name: s_plus_c, dtype: int64\n",
      "\n",
      "Count of NULL s_plus_c values: 0\n",
      "Count of NA s_plus_c values: 0\n",
      "Plot out Values\n"
     ]
    },
    {
     "data": {
      "image/png": "[encoded data removed]",
      "text/plain": [
       "<Figure size 432x288 with 1 Axes>"
      ]
     },
     "metadata": {},
     "output_type": "display_data"
    }
   ],
   "source": [
    "# s_plus_c\n",
    "check_catVar('s_plus_c')"
   ]
  },
  {
   "cell_type": "code",
   "execution_count": 130,
   "metadata": {
    "pycharm": {
     "name": "#%%\n"
    }
   },
   "outputs": [
    {
     "name": "stdout",
     "output_type": "stream",
     "text": [
      "*** For the field ntriggers ***\n",
      "\n",
      "Unique values:\n",
      " [ 0  2  7  3  6  8  9  1  4  5 16 11 12 10 13 14 15 18 21 17 20]\n",
      "\n",
      "The value counts are:\n",
      "0     49487\n",
      "1      2192\n",
      "2      1403\n",
      "3       890\n",
      "4       801\n",
      "5       621\n",
      "6       379\n",
      "7       293\n",
      "8       189\n",
      "9       146\n",
      "10       70\n",
      "11       67\n",
      "12       53\n",
      "13       23\n",
      "14       22\n",
      "16       14\n",
      "15       10\n",
      "18        9\n",
      "21        3\n",
      "17        2\n",
      "20        2\n",
      "Name: ntriggers, dtype: int64\n",
      "\n",
      "Count of NULL ntriggers values: 0\n",
      "Count of NA ntriggers values: 0\n",
      "Plot out Values\n"
     ]
    },
    {
     "data": {
      "image/png": "[encoded data removed]",
      "text/plain": [
       "<Figure size 432x288 with 1 Axes>"
      ]
     },
     "metadata": {},
     "output_type": "display_data"
    }
   ],
   "source": [
    "check_catVar('ntriggers')"
   ]
  },
  {
   "cell_type": "code",
   "execution_count": 131,
   "metadata": {
    "pycharm": {
     "name": "#%%\n"
    }
   },
   "outputs": [
    {
     "name": "stdout",
     "output_type": "stream",
     "text": [
      "*** For the field num_times_neg ***\n",
      "\n",
      "Unique values:\n",
      " [  0   1  12   3   6  25   2   5   7   8  30  58   9  31   4  14  43  11\n",
      "  39  10  27  15  19  17  41  36  24  18  34  22  37  28  13  29  42  59\n",
      "  16  56  35  21  67  60  48  33  38  26  20  47  94  65  32  74  23  69\n",
      "  53  49  51  45  62  44  68  64 132  77  92  82  40  50 107  61  57  79\n",
      "  81  75  83  63  66  78  80  46  54  52  55]\n",
      "\n",
      "The value counts are:\n",
      "0     50376\n",
      "1      1933\n",
      "2       952\n",
      "3       595\n",
      "4       398\n",
      "      ...  \n",
      "80        1\n",
      "94        1\n",
      "54        1\n",
      "52        1\n",
      "55        1\n",
      "Name: num_times_neg, Length: 83, dtype: int64\n",
      "\n",
      "Count of NULL num_times_neg values: 0\n",
      "Count of NA num_times_neg values: 0\n",
      "Plot out Values\n"
     ]
    },
    {
     "data": {
      "image/png": "[encoded data removed]",
      "text/plain": [
       "<Figure size 432x288 with 1 Axes>"
      ]
     },
     "metadata": {},
     "output_type": "display_data"
    }
   ],
   "source": [
    "check_catVar('num_times_neg')"
   ]
  },
  {
   "cell_type": "code",
   "execution_count": 133,
   "metadata": {
    "pycharm": {
     "name": "#%%\n"
    }
   },
   "outputs": [
    {
     "name": "stdout",
     "output_type": "stream",
     "text": [
      "*** For the field num_times_neg ***\n",
      "\n",
      "Unique values:\n",
      " [  0   1  12   3   6  25   2   5   7   8  30  58   9  31   4  14  43  11\n",
      "  39  10  27  15  19  17  41  36  24  18  34  22  37  28  13  29  42  59\n",
      "  16  56  35  21  67  60  48  33  38  26  20  47  94  65  32  74  23  69\n",
      "  53  49  51  45  62  44  68  64 132  77  92  82  40  50 107  61  57  79\n",
      "  81  75  83  63  66  78  80  46  54  52  55]\n",
      "\n",
      "The value counts are:\n",
      "0     50376\n",
      "1      1933\n",
      "2       952\n",
      "3       595\n",
      "4       398\n",
      "      ...  \n",
      "80        1\n",
      "94        1\n",
      "54        1\n",
      "52        1\n",
      "55        1\n",
      "Name: num_times_neg, Length: 83, dtype: int64\n",
      "\n",
      "Count of NULL num_times_neg values: 0\n",
      "Count of NA num_times_neg values: 0\n",
      "Plot out Values\n"
     ]
    },
    {
     "data": {
      "image/png": "[encoded data removed]",
      "text/plain": [
       "<Figure size 432x288 with 1 Axes>"
      ]
     },
     "metadata": {},
     "output_type": "display_data"
    }
   ],
   "source": [
    "check_catVar('num_times_neg')"
   ]
  },
  {
   "cell_type": "code",
   "execution_count": null,
   "metadata": {
    "pycharm": {
     "name": "#%%\n"
    }
   },
   "outputs": [],
   "source": []
  }
 ],
 "metadata": {
  "kernelspec": {
   "display_name": "Python 3 (ipykernel)",
   "language": "python",
   "name": "python3"
  },
  "language_info": {
   "codemirror_mode": {
    "name": "ipython",
    "version": 3
   },
   "file_extension": ".py",
   "mimetype": "text/x-python",
   "name": "python",
   "nbconvert_exporter": "python",
   "pygments_lexer": "ipython3",
   "version": "3.8.8"
  }
 },
 "nbformat": 4,
 "nbformat_minor": 1
}
